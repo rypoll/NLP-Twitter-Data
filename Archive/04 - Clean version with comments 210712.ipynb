{
 "cells": [
  {
   "cell_type": "markdown",
   "id": "3363fcaf",
   "metadata": {},
   "source": [
    "# Analysis and Classification of Tweets to investigate COVID response.\n",
    "\n",
    "## 0. Introduction\n",
    "\n",
    "This report explores twitter data using tweets that contain information about Covid-19 with the end goal being a statistical model that can predict if a tweet contains misinformation about Covid-19.\n",
    "\n",
    "This report is split up into 4 sections. \n",
    "\n",
    "1. Task A Pre-processing: Getting the data ready for the exploratory and statistical analysis\n",
    "2. Task B Text Analysis: Exploring the data and investigating the difference between groups of tweets (groups being the annotations)\n",
    "3. Task C Affect Analysis: Using a lexicon, that is a set dictionary of words to match up with the words contained in the tweets to see if the tweet contains positive or negative sentiment.\n",
    "4. Task D Text Classificiation: Building a predictive model to predict whether a tweet contains misinformation or valid information."
   ]
  },
  {
   "cell_type": "markdown",
   "id": "09695cb5",
   "metadata": {},
   "source": [
    "## 1. Task A Pre-processing\n",
    "\n",
    "This section carries out the pre-processing steps outlined in Task A with the exception of hashtags. In this section hashtags are not removed because the hashtags will be used later on in the analysis. \n",
    "\n",
    "Some further cleaning steps are also done, which will be highligted below.\n",
    "\n",
    "### 1.1 Load libraries\n",
    "\n",
    "speak about what libraries used and why"
   ]
  },
  {
   "cell_type": "code",
   "execution_count": 1,
   "id": "9549b834",
   "metadata": {},
   "outputs": [],
   "source": [
    "#!pip install textblob\n",
    "import nltk\n",
    "from nltk.tokenize import word_tokenize  \n",
    "from nltk.stem import WordNetLemmatizer\n",
    "from nltk.stem.snowball import SnowballStemmer\n",
    "from nltk.stem.porter import *\n",
    "import pandas as pd\n",
    "import matplotlib.pyplot as plt\n",
    "import seaborn as sns\n",
    "from textblob import TextBlob\n",
    "import re\n",
    "from nltk.corpus import stopwords\n",
    "from nltk.stem.wordnet import WordNetLemmatizer\n",
    "from sklearn.feature_extraction.text import CountVectorizer, TfidfTransformer\n",
    "from sklearn.naive_bayes import MultinomialNB\n",
    "from sklearn.model_selection import train_test_split\n",
    "from sklearn.pipeline import Pipeline\n",
    "from sklearn.metrics import confusion_matrix, classification_report,accuracy_score"
   ]
  },
  {
   "cell_type": "markdown",
   "id": "03f527e1",
   "metadata": {},
   "source": [
    "Read in the data"
   ]
  },
  {
   "cell_type": "code",
   "execution_count": 2,
   "id": "d1c1d2f7",
   "metadata": {},
   "outputs": [],
   "source": [
    "import pandas as pd\n",
    "df = pd.read_csv('Data/ms4h05_data_anon.csv')\n",
    "#print(df.to_string())"
   ]
  },
  {
   "cell_type": "markdown",
   "id": "a5c1b167",
   "metadata": {},
   "source": [
    "### 1.2  Change @twitterhandle to @user \n",
    "\n",
    "Tweets that has a user mention, for example @JoeTalkShow is replaced with @user. An example tweet with a user mention is shown as a demonstration, and after using regular expressions to pick up user mentions and change them to @user, the same tweet is shown, having @user where @JoeTalkShow was previously\n",
    "\n"
   ]
  },
  {
   "cell_type": "markdown",
   "id": "d5ff8938",
   "metadata": {},
   "source": [
    "Example of a tweet with a mention, we can see @JoeTalkShow host appears in this tweet:"
   ]
  },
  {
   "cell_type": "code",
   "execution_count": 3,
   "id": "80a32d81",
   "metadata": {},
   "outputs": [
    {
     "data": {
      "text/plain": [
       "'PAGS PARODY! Plus, Joe talks coronavirus and has special guest Peter J Hasson on his new book. - @JoeTalkShow https://t.co/IJE4gZwI0V'"
      ]
     },
     "execution_count": 3,
     "metadata": {},
     "output_type": "execute_result"
    }
   ],
   "source": [
    "df[\"text\"][0] #example of a tweet with @username"
   ]
  },
  {
   "cell_type": "markdown",
   "id": "8e913a3f",
   "metadata": {},
   "source": [
    "We use regular expression to pick up any mention and replace it with @user"
   ]
  },
  {
   "cell_type": "code",
   "execution_count": 4,
   "id": "6702577f",
   "metadata": {},
   "outputs": [],
   "source": [
    "import re\n",
    "df['text'] = [re.sub(r'@\\w+', '@User', x) for x in df[\"text\"]] # eliminate usernames and replace with @User"
   ]
  },
  {
   "cell_type": "markdown",
   "id": "b66479d0",
   "metadata": {},
   "source": [
    "Now look at the same tweet above and how the mention @JoeTalkShow has changed to @User"
   ]
  },
  {
   "cell_type": "code",
   "execution_count": 5,
   "id": "35cddb8d",
   "metadata": {
    "scrolled": true
   },
   "outputs": [
    {
     "data": {
      "text/plain": [
       "'PAGS PARODY! Plus, Joe talks coronavirus and has special guest Peter J Hasson on his new book. - @User https://t.co/IJE4gZwI0V'"
      ]
     },
     "execution_count": 5,
     "metadata": {},
     "output_type": "execute_result"
    }
   ],
   "source": [
    "df['text'][0] #above changes @JoeTalkShow to @User"
   ]
  },
  {
   "cell_type": "markdown",
   "id": "dca5d005",
   "metadata": {},
   "source": [
    "### 1.3 Clean tweets"
   ]
  },
  {
   "cell_type": "markdown",
   "id": "197c3eed",
   "metadata": {},
   "source": [
    "Now we clean the tweets so they don't impact the analysis. The following steps were taken so tweets and the words are cleaned. If there are any characters next to valid words that may impact how we count up the frequency of words. For example, we eliminate brackets from this text \"(good)\" to make \"good\" and therefore the original text can be bundled with the other words \"good\" in corpus.\n",
    "\n",
    "Here are the steps we will take to clean up the text, again using regular expressions:\n",
    "\n",
    "1. Convert html expressions such as \\n and &amp; to characters\n",
    "2. Delete any html tags such as <'tab'>\n",
    "3. We will keep URLS as they may help for the classification in Task D. Sometimes it's good to remove URLS from a text however in this case perhaps certain tweets with misinformation often link to a website so it could be possible that a URL helps to predict a tweet with misinformation.\n",
    "4. Eliminate any brackets\n",
    "5. Clean up hashes that don't form a hashtag. So we remove a text like this: &#- but we keep text like this \"#hello\".\n",
    "6. Clean up hyphens\n",
    "7. Clean up white spaces to just one white space\n",
    "\n",
    "We create a program that creates the above steps and after we apply that to the data."
   ]
  },
  {
   "cell_type": "markdown",
   "id": "59e8cc64",
   "metadata": {},
   "source": [
    "Here is a program that will clean up the text:"
   ]
  },
  {
   "cell_type": "code",
   "execution_count": 6,
   "id": "e2166b53",
   "metadata": {},
   "outputs": [],
   "source": [
    "import html\n",
    "\n",
    "def clean(text):\n",
    "    # convert html escapes like &amp; to characters.\n",
    "    text = html.unescape(text)\n",
    "    # tags like <tab>\n",
    "    text = re.sub(r'<[^<>]*>', ' ', text)\n",
    "    # markdown URLs like [Some text](https://....)\n",
    "    #text = re.sub(r'\\[([^\\[\\]]*)\\]\\([^\\(\\)]*\\)', r'\\1', text)\n",
    "    # text or code in brackets like [0]\n",
    "    text = re.sub(r'\\[[^\\[\\]]*\\]', ' ', text)\n",
    "    # standalone sequences of specials, matches &# but not #cool\n",
    "    text = re.sub(r'(?:^|\\s)[&#<>{}\\[\\]+|\\\\:-]{1,}(?:\\s|$)', ' ', text)\n",
    "    # standalone sequences of hyphens like --- or ==\n",
    "    text = re.sub(r'(?:^|\\s)[\\-=\\+]{2,}(?:\\s|$)', ' ', text)\n",
    "    # sequences of white spaces\n",
    "    text = re.sub(r'\\s+', ' ', text)\n",
    "    #no hashtags\n",
    "    #text = re.sub('\\#[\\w\\_]+',' ', text)\n",
    "    return text.strip()"
   ]
  },
  {
   "cell_type": "markdown",
   "id": "e614d2bf",
   "metadata": {},
   "source": [
    "Apply the cleaning program we just created to all the tweets and call these cleaned tweets \"clean_text\" in our dataframe."
   ]
  },
  {
   "cell_type": "code",
   "execution_count": 7,
   "id": "0e37dc5f",
   "metadata": {},
   "outputs": [],
   "source": [
    "df['clean_text'] = df['text'].map(clean)"
   ]
  },
  {
   "cell_type": "markdown",
   "id": "cbefe3c9",
   "metadata": {},
   "source": [
    "Example tweet before clean:"
   ]
  },
  {
   "cell_type": "code",
   "execution_count": 8,
   "id": "ccde462f",
   "metadata": {},
   "outputs": [
    {
     "data": {
      "text/plain": [
       "\"Hey @User if you are done with cocaine and gay orgies, take some similar diplomatic initiatives..\\n\\nStop being Bajwa's bitch for once and show your balls, if you have any..\\n\\n#imrankhanPTI #Pakistan #CoronaAlert \\n#CoronaOutbreak #CoronavirusPandemic #CoronaVirus #SAARC https://t.co/55n0bN9ZRv\""
      ]
     },
     "execution_count": 8,
     "metadata": {},
     "output_type": "execute_result"
    }
   ],
   "source": [
    "df['text'][352]"
   ]
  },
  {
   "cell_type": "markdown",
   "id": "765015b7",
   "metadata": {},
   "source": [
    "Same tweet but now cleaned up. Notice how the \\n tags are now removed, making a much cleaner tweet."
   ]
  },
  {
   "cell_type": "code",
   "execution_count": 9,
   "id": "7614c667",
   "metadata": {},
   "outputs": [],
   "source": [
    "df['clean_text'][352]\n",
    "df['ctext_nh'] = df['clean_text']"
   ]
  },
  {
   "cell_type": "markdown",
   "id": "796f5b67",
   "metadata": {},
   "source": [
    "### 1.4 A point about hashtags\n",
    "\n",
    "In this part we will not clean up the hashtags because using all the hashtags will be necessary later on. Hashtags will be removed later on in the report."
   ]
  },
  {
   "cell_type": "markdown",
   "id": "06a0e135",
   "metadata": {},
   "source": [
    "### 1.5 Convert all tweets to lowercase for tokenisation\n",
    "We convert to lowercase so words like \"corona\" and \"Corona\" which means in the analysis both words come under the label \"corona\". This is important because we don't want these to be treated as two different words just because one is capitalised - that would make the statistical analysis weaker."
   ]
  },
  {
   "cell_type": "code",
   "execution_count": 10,
   "id": "608fa6e7",
   "metadata": {},
   "outputs": [],
   "source": [
    "df = df.applymap(lambda s:s.lower() if type(s) == str else s) #convert all to lowercase\n",
    "df['text5'] = df['ctext_nh']"
   ]
  },
  {
   "cell_type": "markdown",
   "id": "18b4c77c",
   "metadata": {},
   "source": [
    "### 1.6 Normalisation\n",
    "\n",
    "Normalisation is doing further cleaning of the text which means we can explore the data better and build a more rigorous statistical model. We use the package textacy to do this as the normalisation steps are nicely available as commands."
   ]
  },
  {
   "cell_type": "markdown",
   "id": "7307a696",
   "metadata": {},
   "source": [
    "The normalisation steps are the following: \n",
    "1. Eliminate hyphens in hyphenated words\n",
    "2. Delete quotation marks\n",
    "3. Delete unicode\n",
    "4. Remove accents (such as accented vowels)\n",
    "\n",
    "First we create a program that does all these steps, and then we apply this program to the corpus of tweets"
   ]
  },
  {
   "cell_type": "code",
   "execution_count": 11,
   "id": "f1d280e5",
   "metadata": {},
   "outputs": [],
   "source": [
    "from  textacy import preprocessing as tprep\n",
    "def normalise(text):\n",
    "    text = tprep.normalize.hyphenated_words(text)\n",
    "    text = tprep.normalize.quotation_marks(text)\n",
    "    text = tprep.normalize.unicode(text)\n",
    "    text = tprep.remove.accents(text)\n",
    "    return text"
   ]
  },
  {
   "cell_type": "code",
   "execution_count": 12,
   "id": "57677b91",
   "metadata": {},
   "outputs": [],
   "source": [
    "df['text6'] = df['text5'].map(normalise)"
   ]
  },
  {
   "cell_type": "markdown",
   "id": "2313f02c",
   "metadata": {},
   "source": [
    "### 1.7 Tokenisation\n",
    "\n",
    "We load in the spacy package which used for text analysis. First we tokenise the tweets, which means splitting the tweets up into individual words."
   ]
  },
  {
   "cell_type": "code",
   "execution_count": 13,
   "id": "22330e39",
   "metadata": {},
   "outputs": [],
   "source": [
    "import spacy\n",
    "nlp = spacy.load('en_core_web_sm')"
   ]
  },
  {
   "cell_type": "code",
   "execution_count": 14,
   "id": "4bdf639e",
   "metadata": {},
   "outputs": [],
   "source": [
    "df['text7'] = df['text6'].map(nlp)"
   ]
  },
  {
   "cell_type": "markdown",
   "id": "06eaacc9",
   "metadata": {},
   "source": [
    "After we apply this tokenisation, we can now see that each tweet below, given by a row, is split into words. Each word is followed by a comma."
   ]
  },
  {
   "cell_type": "code",
   "execution_count": 15,
   "id": "7f22b4d4",
   "metadata": {},
   "outputs": [
    {
     "data": {
      "text/plain": [
       "0       (pags, parody, !, plus, ,, joe, talks, coronav...\n",
       "1       (#, coronavirus, shows, that, racists, have, a...\n",
       "2       (@user, @user, i, would, expect, front, line, ...\n",
       "3       (the, coronavirus, is, not, only, affecting, t...\n",
       "4       (i, hope, your, father, recovers, from, the, v...\n",
       "                              ...                        \n",
       "3637    (da, fark, is, wrong, with, these, people, ?, ...\n",
       "3638    (doctor, finds, cure, to, covid-19, (, without...\n",
       "3639    (i, ca, n't, believe, people, legitimately, th...\n",
       "3640    (..., (, wrong, with, trump, continues, ), ,, ...\n",
       "3641    (for, anyone, who, still, believes, that, covi...\n",
       "Name: text7, Length: 3642, dtype: object"
      ]
     },
     "execution_count": 15,
     "metadata": {},
     "output_type": "execute_result"
    }
   ],
   "source": [
    "df['text7']"
   ]
  },
  {
   "cell_type": "markdown",
   "id": "90e38249",
   "metadata": {},
   "source": [
    "### 1.8 Delete stop words\n",
    "These words don't help predict or tell us the opinion of a tweet, so we don't need them and they just add noise to the data if we keep them. Here's a program that deletes stop words.\n",
    "\n",
    "For example, we eliminate words such as \"that\" or \"the\". It tells us nothing about the content of the tweet, it's just noise, so we eliminate them.\n",
    "\n",
    "First we create a program that gives instructions on how to remove stop words, then we apply it to the tweets"
   ]
  },
  {
   "cell_type": "code",
   "execution_count": 16,
   "id": "58de20b0",
   "metadata": {},
   "outputs": [],
   "source": [
    "def stop_words(doc):\n",
    "    non_stop = [t for t in doc if not t.is_stop and not t.is_punct]\n",
    "    return non_stop"
   ]
  },
  {
   "cell_type": "markdown",
   "id": "ee99a408",
   "metadata": {},
   "source": [
    "Use the program on our tweets:"
   ]
  },
  {
   "cell_type": "code",
   "execution_count": 17,
   "id": "daec56e4",
   "metadata": {},
   "outputs": [],
   "source": [
    "df['text8'] = df['text7'].map(stop_words)"
   ]
  },
  {
   "cell_type": "markdown",
   "id": "4c5ff804",
   "metadata": {},
   "source": [
    "### 1.9 Lemmatisation\n",
    "This process makes words such as \"closed\", \"closing\", \"closes\" all the same, \"closes\". Tense doesn't tell us anything about the tweet so we make these words the same as they have the same meaning.\n",
    "\n",
    "This is useful in the analysis because we want to group all types of the word \"show\", be it \"show, shows, showing, showed\" into one lemma: \"show\" because they essentially all have the same meaning.\n",
    "\n",
    "\n",
    "See how in the following tweet, the 2nd word is \"show\". The original tweet has \"shows\" but with lemmatisation this changes to \"show\"."
   ]
  },
  {
   "cell_type": "code",
   "execution_count": 18,
   "id": "9bd06a5e",
   "metadata": {},
   "outputs": [
    {
     "data": {
      "text/plain": [
       "['coronavirus',\n",
       " 'show',\n",
       " 'racist',\n",
       " 'absolutely',\n",
       " '2',\n",
       " 'time',\n",
       " 'hand',\n",
       " 'firstly',\n",
       " 'racist',\n",
       " 'hate',\n",
       " 'poc',\n",
       " 'r',\n",
       " 'stick',\n",
       " 'xenophobicworld',\n",
       " 'proud',\n",
       " 'deplorable',\n",
       " 'mean',\n",
       " 'beleev',\n",
       " 'coronavirus',\n",
       " 'exist',\n",
       " 'day',\n",
       " '2',\n",
       " 'ago',\n",
       " 'trump',\n",
       " 'quick',\n",
       " 'study',\n",
       " 'https://t.co/p22j3ti6kk']"
      ]
     },
     "execution_count": 18,
     "metadata": {},
     "output_type": "execute_result"
    }
   ],
   "source": [
    "test = [t.lemma_ for t in df['text8'][1]]\n",
    "test"
   ]
  },
  {
   "cell_type": "markdown",
   "id": "8ba8e467",
   "metadata": {},
   "source": [
    "Create a program that does the lemmatisation to our tweets then apply it to the data"
   ]
  },
  {
   "cell_type": "code",
   "execution_count": 19,
   "id": "1e015a88",
   "metadata": {},
   "outputs": [],
   "source": [
    "def lemma(doc):\n",
    "    doclems = [t.lemma_ for t in doc]\n",
    "    return doclems\n",
    "   "
   ]
  },
  {
   "cell_type": "code",
   "execution_count": 20,
   "id": "df3ae354",
   "metadata": {},
   "outputs": [],
   "source": [
    "df['text9'] = df['text8'].map(lemma)"
   ]
  },
  {
   "cell_type": "markdown",
   "id": "8e64a4c1",
   "metadata": {},
   "source": [
    "---------------------------"
   ]
  },
  {
   "cell_type": "markdown",
   "id": "705d6206",
   "metadata": {},
   "source": [
    "## 2. Task B:Text Analysis\n",
    "\n",
    "In this section all tasks outlined in Task B are carried out. First we will do more pre-processing steps to get the tweets ready to be analysed. "
   ]
  },
  {
   "cell_type": "markdown",
   "id": "4c4bb2fe",
   "metadata": {},
   "source": [
    "### 2.1 Pre-processing for the tasks in Task B\n",
    "\n",
    "Although we used in 1.7 to 1.9 to do some pre-processing steps with spacy, we are going to repeat these steps with textacy as textacy is good to use for doing word type analysis. \n",
    "\n",
    "Below we make a program that allows us to extract the word types from a tweet. That means giving each word a label telling us the word type. For example, if the word \"eat\" is in a tweet, we give it the label \"verb\". This will be used for the word type analysis outlined in the task. \n",
    "\n",
    "We use a packages called textacy to do this. We can use this program and tell it to give us adjectives, nouns, verbs and more.\n",
    "\n",
    "Although we used spacy to lemmatise above, we will use textacy to do this and also to extract other word types. \n",
    "\n",
    "We will create programs to extract our word types. The word types are as follows:\n",
    "1. Lemmas (These a words but withot syntax)\n",
    "2. Noun phrases (two nouns together)\n",
    "3. Verb phrases (two verbs together)\n",
    "4. Entities (these are organisations or names, such as Donald Trump or CIA)\n",
    "\n",
    "We will use the tweets after pre-processing only up to section 1.6 as doing the following processing step also does the following:\n",
    "\n",
    "1. Eliminates stop words\n",
    "2. Tokenises\n",
    "3. Lemmatises"
   ]
  },
  {
   "cell_type": "code",
   "execution_count": 21,
   "id": "c582a8e4",
   "metadata": {},
   "outputs": [
    {
     "ename": "NameError",
     "evalue": "name 'doc' is not defined",
     "output_type": "error",
     "traceback": [
      "\u001b[1;31m---------------------------------------------------------------------------\u001b[0m",
      "\u001b[1;31mNameError\u001b[0m                                 Traceback (most recent call last)",
      "\u001b[1;32m<ipython-input-21-07b68b1a433a>\u001b[0m in \u001b[0;36m<module>\u001b[1;34m\u001b[0m\n\u001b[0;32m      1\u001b[0m \u001b[1;32mimport\u001b[0m \u001b[0mtextacy\u001b[0m\u001b[1;33m\u001b[0m\u001b[1;33m\u001b[0m\u001b[0m\n\u001b[0;32m      2\u001b[0m \u001b[1;33m\u001b[0m\u001b[0m\n\u001b[1;32m----> 3\u001b[1;33m tokens = textacy.extract.words(doc,\n\u001b[0m\u001b[0;32m      4\u001b[0m             \u001b[0mfilter_stops\u001b[0m \u001b[1;33m=\u001b[0m \u001b[1;32mTrue\u001b[0m\u001b[1;33m,\u001b[0m           \u001b[1;31m# default True, no stopwords\u001b[0m\u001b[1;33m\u001b[0m\u001b[1;33m\u001b[0m\u001b[0m\n\u001b[0;32m      5\u001b[0m             \u001b[0mfilter_punct\u001b[0m \u001b[1;33m=\u001b[0m \u001b[1;32mTrue\u001b[0m\u001b[1;33m,\u001b[0m           \u001b[1;31m# default True, no punctuation\u001b[0m\u001b[1;33m\u001b[0m\u001b[1;33m\u001b[0m\u001b[0m\n",
      "\u001b[1;31mNameError\u001b[0m: name 'doc' is not defined"
     ]
    }
   ],
   "source": [
    "import textacy\n",
    "\n",
    "tokens = textacy.extract.words(doc,\n",
    "            filter_stops = True,           # default True, no stopwords\n",
    "            filter_punct = True,           # default True, no punctuation\n",
    "            filter_nums = True,            # default False, no numbers\n",
    "            include_pos = ['ADJ', 'NOUN'], # default None = include all\n",
    "            exclude_pos = None,            # default None = exclude none\n",
    "            min_freq = 1)                  # minimum frequency of words\n",
    "\n"
   ]
  },
  {
   "cell_type": "markdown",
   "id": "0fc899b5",
   "metadata": {},
   "source": [
    "#### A program to extract lemmas."
   ]
  },
  {
   "cell_type": "code",
   "execution_count": null,
   "id": "a348feb9",
   "metadata": {},
   "outputs": [],
   "source": [
    "#program to extract lemmas\n",
    "def extract_lemmas(doc, **kwargs):\n",
    "    return [t.lemma_ for t in textacy.extract.words(doc, **kwargs)]\n",
    "\n"
   ]
  },
  {
   "cell_type": "markdown",
   "id": "6fca3e71",
   "metadata": {},
   "source": [
    "#### A program to extract Noun phrases\n",
    "The output below the next cell gives an example of a noun phrase."
   ]
  },
  {
   "cell_type": "code",
   "execution_count": null,
   "id": "e40b583b",
   "metadata": {},
   "outputs": [],
   "source": [
    "def extract_noun_phrases(doc, preceding_pos=['NOUN'], sep='_'):\n",
    "    patterns = []\n",
    "    for pos in preceding_pos:\n",
    "        patterns.append(f\"POS:{pos} POS:NOUN:+\")\n",
    "    spans = textacy.extract.matches.token_matches(doc, patterns=patterns)\n",
    "    return [sep.join([t.lemma_ for t in s]) for s in spans]\n",
    "\n",
    "print(*extract_noun_phrases(df['text7'][7], ['NOUN']), sep='|')"
   ]
  },
  {
   "cell_type": "markdown",
   "id": "a3113f63",
   "metadata": {},
   "source": [
    "#### A prgoram to extract Verb phrases\n",
    "The output below the next cell gives an example of a verb phrase."
   ]
  },
  {
   "cell_type": "code",
   "execution_count": null,
   "id": "7d718732",
   "metadata": {},
   "outputs": [],
   "source": [
    "def extract_verb_phrases(doc, preceding_pos=['VERB'], sep='_'):\n",
    "    patterns = []\n",
    "    for pos in preceding_pos:\n",
    "        patterns.append(f\"POS:{pos} POS:VERB:+\")\n",
    "    spans = textacy.extract.matches.token_matches(doc, patterns=patterns)\n",
    "    return [sep.join([t.lemma_ for t in s]) for s in spans]\n",
    "\n",
    "print(*extract_verb_phrases(df['text7'][12], ['VERB']), sep='|')"
   ]
  },
  {
   "cell_type": "markdown",
   "id": "8e0b8a2b",
   "metadata": {},
   "source": [
    "#### A program to extract Entities\n",
    "\n",
    "Entities are things like people, \"Donald Trump\" or organisations, \"CIA\"."
   ]
  },
  {
   "cell_type": "code",
   "execution_count": null,
   "id": "69dbde60",
   "metadata": {},
   "outputs": [],
   "source": [
    "def extract_entities(doc, include_types=None, sep='_'):\n",
    "\n",
    "    ents = textacy.extract.entities(doc,\n",
    "             include_types=include_types,\n",
    "             exclude_types=None,\n",
    "             drop_determiners=True,\n",
    "             min_freq=1)\n",
    "\n",
    "    return [sep.join([t.lemma_ for t in e])+'/'+e.label_ for e in ents]"
   ]
  },
  {
   "cell_type": "markdown",
   "id": "2364655d",
   "metadata": {},
   "source": [
    "#### Use all the programs above and put it into one program so you can label all the words with word types just using one piece of code"
   ]
  },
  {
   "cell_type": "code",
   "execution_count": null,
   "id": "d4e3e3e4",
   "metadata": {},
   "outputs": [],
   "source": [
    "def extract_nlp(doc):\n",
    "    return {\n",
    "    'lemmas'          : extract_lemmas(doc,\n",
    "                                     exclude_pos = ['PART', 'PUNCT',\n",
    "                                        'DET', 'PRON', 'SYM', 'SPACE'],\n",
    "                                     filter_stops = True),\n",
    "    'adjs'      : extract_lemmas(doc, include_pos = ['ADJ', 'VERB']),\n",
    "    'verbs'      : extract_lemmas(doc, include_pos = ['VERB']),\n",
    "    'nouns'           : extract_lemmas(doc, include_pos = ['NOUN', 'PROPN']),\n",
    "    'noun_phrases'    : extract_noun_phrases(doc, ['NOUN']),\n",
    "    'verb_phrases'    : extract_verb_phrases(doc, ['ADV']),\n",
    "    'adj_noun_phrases': extract_noun_phrases(doc, ['ADJ']),\n",
    "    'entities'        : extract_entities(doc, ['PERSON', 'ORG', 'GPE', 'LOC']),\n",
    "    #'hashtags'        : extract_hashtags(text)\n",
    "    }"
   ]
  },
  {
   "cell_type": "markdown",
   "id": "40082b16",
   "metadata": {},
   "source": [
    "#### Remove hashtags\n",
    "\n",
    "Create a program and apply it to our data. This removes hashtags because this interferes with our word type analysis.\n"
   ]
  },
  {
   "cell_type": "code",
   "execution_count": null,
   "id": "c0fb352c",
   "metadata": {},
   "outputs": [],
   "source": [
    "def remove_hash(text):\n",
    "    text = re.sub('\\#[\\w\\_]+',' ', text)\n",
    "    return text.strip()"
   ]
  },
  {
   "cell_type": "code",
   "execution_count": null,
   "id": "593fead5",
   "metadata": {},
   "outputs": [],
   "source": [
    "df['ctext_nh2'] = df['text6'].map(remove_hash)"
   ]
  },
  {
   "cell_type": "code",
   "execution_count": null,
   "id": "454687ed",
   "metadata": {},
   "outputs": [],
   "source": []
  },
  {
   "cell_type": "code",
   "execution_count": null,
   "id": "62de4be5",
   "metadata": {},
   "outputs": [],
   "source": [
    "nlp_columns = list(extract_nlp(nlp.make_doc('')).keys())\n",
    "#print(nlp_columns)"
   ]
  },
  {
   "cell_type": "code",
   "execution_count": null,
   "id": "e66f7509",
   "metadata": {},
   "outputs": [],
   "source": [
    "for col in nlp_columns:\n",
    "    df[col] = None"
   ]
  },
  {
   "cell_type": "code",
   "execution_count": 226,
   "id": "c9d10394",
   "metadata": {},
   "outputs": [
    {
     "name": "stderr",
     "output_type": "stream",
     "text": [
      "C:\\Users\\T430\\Anaconda3\\lib\\site-packages\\pandas\\core\\indexing.py:1637: SettingWithCopyWarning: \n",
      "A value is trying to be set on a copy of a slice from a DataFrame\n",
      "\n",
      "See the caveats in the documentation: https://pandas.pydata.org/pandas-docs/stable/user_guide/indexing.html#returning-a-view-versus-a-copy\n",
      "  self._setitem_single_block(indexer, value, name)\n"
     ]
    }
   ],
   "source": [
    "batch_size = 50\n",
    "\n",
    "for i in range(0, len(df), batch_size):\n",
    "    docs = nlp.pipe(df['ctext_nh'][i:i+batch_size])\n",
    "\n",
    "    for j, doc in enumerate(docs):\n",
    "        for col, values in extract_nlp(doc).items():\n",
    "            df[col].iloc[i+j] = values"
   ]
  },
  {
   "cell_type": "markdown",
   "id": "3756d328",
   "metadata": {},
   "source": [
    "Extract all hastags from original tweets"
   ]
  },
  {
   "cell_type": "code",
   "execution_count": 227,
   "id": "d56ba06a",
   "metadata": {},
   "outputs": [],
   "source": [
    "#make hashtags column\n",
    "df['hashtags_orig'] = df['text'].map(extract_hashtags)\n",
    "#extract hashtags but where the hashtags we don't want are deleted\n",
    "\n",
    "import re\n",
    "#store stated hashtags\n",
    "remove_words = ['ncov20199',\n",
    "'coronaoutbreak',\n",
    "'coronavirus',\n",
    "'coronaviruscoverup',\n",
    "'coronavirusoutbreak',\n",
    "'covid19',\n",
    "'coronavirus',\n",
    "'wuhancoronavirus',\n",
    "'coronaviris',\n",
    "'wuhan']\n",
    "\n"
   ]
  },
  {
   "cell_type": "markdown",
   "id": "e2be09a9",
   "metadata": {},
   "source": [
    "Make a new variable that lists the hashtags but excluding the ones listed in the assignment."
   ]
  },
  {
   "cell_type": "code",
   "execution_count": 228,
   "id": "40361347",
   "metadata": {},
   "outputs": [],
   "source": [
    "#this removes the hashtags stated from the hashtag column\n",
    "df['hashtags_del'] = df.hashtags_orig.apply(lambda x: [i for i in x if i not in remove_words])"
   ]
  },
  {
   "cell_type": "markdown",
   "id": "53b9b018",
   "metadata": {},
   "source": [
    "### Task B "
   ]
  },
  {
   "cell_type": "markdown",
   "id": "527b5a0e",
   "metadata": {},
   "source": [
    "#### 1. Distribution of word types in corpus and each category"
   ]
  },
  {
   "cell_type": "markdown",
   "id": "362c9fca",
   "metadata": {},
   "source": [
    "Create a column that tells us the amount of each word type for each tweet"
   ]
  },
  {
   "cell_type": "code",
   "execution_count": 229,
   "id": "03543aa6",
   "metadata": {},
   "outputs": [],
   "source": [
    "nlp_columns\n",
    "\n",
    "for column in nlp_columns:\n",
    "    df[f'{column}_num'] = [len(x) for x in df[column]]"
   ]
  },
  {
   "cell_type": "markdown",
   "id": "5e02ffea",
   "metadata": {},
   "source": [
    "Here we have a chart of the frequency of word types in the entire dataset. "
   ]
  },
  {
   "cell_type": "code",
   "execution_count": 230,
   "id": "6d48eff4",
   "metadata": {},
   "outputs": [
    {
     "data": {
      "text/plain": [
       "Text(0.5, 1.0, 'Distribution of word types in the entire corpus of tweets')"
      ]
     },
     "execution_count": 230,
     "metadata": {},
     "output_type": "execute_result"
    },
    {
     "data": {
      "image/png": "[encoded data removed]",
      "text/plain": [
       "<Figure size 1152x432 with 1 Axes>"
      ]
     },
     "metadata": {
      "needs_background": "light"
     },
     "output_type": "display_data"
    }
   ],
   "source": [
    "from matplotlib import pyplot as plt\n",
    "df[df.columns[22:29]].sum().plot.bar(rot=90, color='DarkTurquoise')\n",
    "# Custom x axis\n",
    "\n",
    "plt.xlabel(\"Word Type\")\n",
    " \n",
    "plt.ylabel(\"Frequency of occurences\")\n",
    "plt.title('Distribution of word types in the entire corpus of tweets') "
   ]
  },
  {
   "cell_type": "markdown",
   "id": "8f8df2e0",
   "metadata": {},
   "source": [
    "Do this same analysis but for each group of tweets, so we sum up the number of word types by the groups."
   ]
  },
  {
   "cell_type": "code",
   "execution_count": 231,
   "id": "84acab3f",
   "metadata": {},
   "outputs": [],
   "source": [
    "#get dataframe to sum over\n",
    "import numpy as np\n",
    "df1 = df[df.columns[np.concatenate([range(2,3),range(22,29)])]]\n",
    "\n"
   ]
  },
  {
   "cell_type": "code",
   "execution_count": 232,
   "id": "b517cc67",
   "metadata": {},
   "outputs": [],
   "source": [
    "df2 = df1.groupby('annontation', as_index=False).sum()"
   ]
  },
  {
   "cell_type": "code",
   "execution_count": 233,
   "id": "1da25811",
   "metadata": {},
   "outputs": [
    {
     "data": {
      "text/html": [
       "<div>\n",
       "<style scoped>\n",
       "    .dataframe tbody tr th:only-of-type {\n",
       "        vertical-align: middle;\n",
       "    }\n",
       "\n",
       "    .dataframe tbody tr th {\n",
       "        vertical-align: top;\n",
       "    }\n",
       "\n",
       "    .dataframe thead th {\n",
       "        text-align: right;\n",
       "    }\n",
       "</style>\n",
       "<table border=\"1\" class=\"dataframe\">\n",
       "  <thead>\n",
       "    <tr style=\"text-align: right;\">\n",
       "      <th></th>\n",
       "      <th>annontation</th>\n",
       "      <th>adjs_num</th>\n",
       "      <th>verbs_num</th>\n",
       "      <th>nouns_num</th>\n",
       "      <th>noun_phrases_num</th>\n",
       "      <th>verb_phrases_num</th>\n",
       "      <th>adj_noun_phrases_num</th>\n",
       "      <th>entities_num</th>\n",
       "    </tr>\n",
       "  </thead>\n",
       "  <tbody>\n",
       "    <tr>\n",
       "      <th>0</th>\n",
       "      <td>ambiguous or hard to classify</td>\n",
       "      <td>647</td>\n",
       "      <td>380</td>\n",
       "      <td>977</td>\n",
       "      <td>231</td>\n",
       "      <td>32</td>\n",
       "      <td>211</td>\n",
       "      <td>37</td>\n",
       "    </tr>\n",
       "    <tr>\n",
       "      <th>1</th>\n",
       "      <td>calling out or correction</td>\n",
       "      <td>7085</td>\n",
       "      <td>4396</td>\n",
       "      <td>9989</td>\n",
       "      <td>2291</td>\n",
       "      <td>408</td>\n",
       "      <td>1930</td>\n",
       "      <td>396</td>\n",
       "    </tr>\n",
       "    <tr>\n",
       "      <th>2</th>\n",
       "      <td>commercial activity or promotion</td>\n",
       "      <td>189</td>\n",
       "      <td>103</td>\n",
       "      <td>330</td>\n",
       "      <td>116</td>\n",
       "      <td>4</td>\n",
       "      <td>77</td>\n",
       "      <td>10</td>\n",
       "    </tr>\n",
       "    <tr>\n",
       "      <th>3</th>\n",
       "      <td>conspiracy</td>\n",
       "      <td>2791</td>\n",
       "      <td>1727</td>\n",
       "      <td>4526</td>\n",
       "      <td>1238</td>\n",
       "      <td>157</td>\n",
       "      <td>885</td>\n",
       "      <td>141</td>\n",
       "    </tr>\n",
       "    <tr>\n",
       "      <th>4</th>\n",
       "      <td>emergency</td>\n",
       "      <td>125</td>\n",
       "      <td>90</td>\n",
       "      <td>190</td>\n",
       "      <td>34</td>\n",
       "      <td>6</td>\n",
       "      <td>28</td>\n",
       "      <td>14</td>\n",
       "    </tr>\n",
       "    <tr>\n",
       "      <th>5</th>\n",
       "      <td>fake cure</td>\n",
       "      <td>381</td>\n",
       "      <td>229</td>\n",
       "      <td>706</td>\n",
       "      <td>226</td>\n",
       "      <td>17</td>\n",
       "      <td>155</td>\n",
       "      <td>35</td>\n",
       "    </tr>\n",
       "    <tr>\n",
       "      <th>6</th>\n",
       "      <td>fake treatment</td>\n",
       "      <td>107</td>\n",
       "      <td>75</td>\n",
       "      <td>191</td>\n",
       "      <td>45</td>\n",
       "      <td>7</td>\n",
       "      <td>36</td>\n",
       "      <td>10</td>\n",
       "    </tr>\n",
       "    <tr>\n",
       "      <th>7</th>\n",
       "      <td>false fact or prevention</td>\n",
       "      <td>1639</td>\n",
       "      <td>911</td>\n",
       "      <td>2465</td>\n",
       "      <td>730</td>\n",
       "      <td>76</td>\n",
       "      <td>548</td>\n",
       "      <td>84</td>\n",
       "    </tr>\n",
       "    <tr>\n",
       "      <th>8</th>\n",
       "      <td>false public health response</td>\n",
       "      <td>15</td>\n",
       "      <td>8</td>\n",
       "      <td>28</td>\n",
       "      <td>7</td>\n",
       "      <td>0</td>\n",
       "      <td>6</td>\n",
       "      <td>4</td>\n",
       "    </tr>\n",
       "    <tr>\n",
       "      <th>9</th>\n",
       "      <td>irrelevant</td>\n",
       "      <td>600</td>\n",
       "      <td>364</td>\n",
       "      <td>1005</td>\n",
       "      <td>312</td>\n",
       "      <td>39</td>\n",
       "      <td>201</td>\n",
       "      <td>22</td>\n",
       "    </tr>\n",
       "    <tr>\n",
       "      <th>10</th>\n",
       "      <td>news</td>\n",
       "      <td>386</td>\n",
       "      <td>227</td>\n",
       "      <td>775</td>\n",
       "      <td>232</td>\n",
       "      <td>13</td>\n",
       "      <td>138</td>\n",
       "      <td>21</td>\n",
       "    </tr>\n",
       "    <tr>\n",
       "      <th>11</th>\n",
       "      <td>panic buying</td>\n",
       "      <td>278</td>\n",
       "      <td>193</td>\n",
       "      <td>648</td>\n",
       "      <td>184</td>\n",
       "      <td>26</td>\n",
       "      <td>78</td>\n",
       "      <td>11</td>\n",
       "    </tr>\n",
       "    <tr>\n",
       "      <th>12</th>\n",
       "      <td>politics</td>\n",
       "      <td>2812</td>\n",
       "      <td>1859</td>\n",
       "      <td>4103</td>\n",
       "      <td>1034</td>\n",
       "      <td>188</td>\n",
       "      <td>713</td>\n",
       "      <td>112</td>\n",
       "    </tr>\n",
       "    <tr>\n",
       "      <th>13</th>\n",
       "      <td>sarcasm or satire</td>\n",
       "      <td>2043</td>\n",
       "      <td>1379</td>\n",
       "      <td>2825</td>\n",
       "      <td>545</td>\n",
       "      <td>140</td>\n",
       "      <td>452</td>\n",
       "      <td>105</td>\n",
       "    </tr>\n",
       "    <tr>\n",
       "      <th>14</th>\n",
       "      <td>true prevention</td>\n",
       "      <td>1085</td>\n",
       "      <td>727</td>\n",
       "      <td>1569</td>\n",
       "      <td>340</td>\n",
       "      <td>67</td>\n",
       "      <td>247</td>\n",
       "      <td>48</td>\n",
       "    </tr>\n",
       "    <tr>\n",
       "      <th>15</th>\n",
       "      <td>true public health response</td>\n",
       "      <td>847</td>\n",
       "      <td>516</td>\n",
       "      <td>1514</td>\n",
       "      <td>439</td>\n",
       "      <td>27</td>\n",
       "      <td>305</td>\n",
       "      <td>54</td>\n",
       "    </tr>\n",
       "  </tbody>\n",
       "</table>\n",
       "</div>"
      ],
      "text/plain": [
       "                         annontation  adjs_num  verbs_num  nouns_num  \\\n",
       "0      ambiguous or hard to classify       647        380        977   \n",
       "1          calling out or correction      7085       4396       9989   \n",
       "2   commercial activity or promotion       189        103        330   \n",
       "3                         conspiracy      2791       1727       4526   \n",
       "4                          emergency       125         90        190   \n",
       "5                          fake cure       381        229        706   \n",
       "6                     fake treatment       107         75        191   \n",
       "7           false fact or prevention      1639        911       2465   \n",
       "8       false public health response        15          8         28   \n",
       "9                         irrelevant       600        364       1005   \n",
       "10                              news       386        227        775   \n",
       "11                      panic buying       278        193        648   \n",
       "12                          politics      2812       1859       4103   \n",
       "13                 sarcasm or satire      2043       1379       2825   \n",
       "14                   true prevention      1085        727       1569   \n",
       "15       true public health response       847        516       1514   \n",
       "\n",
       "    noun_phrases_num  verb_phrases_num  adj_noun_phrases_num  entities_num  \n",
       "0                231                32                   211            37  \n",
       "1               2291               408                  1930           396  \n",
       "2                116                 4                    77            10  \n",
       "3               1238               157                   885           141  \n",
       "4                 34                 6                    28            14  \n",
       "5                226                17                   155            35  \n",
       "6                 45                 7                    36            10  \n",
       "7                730                76                   548            84  \n",
       "8                  7                 0                     6             4  \n",
       "9                312                39                   201            22  \n",
       "10               232                13                   138            21  \n",
       "11               184                26                    78            11  \n",
       "12              1034               188                   713           112  \n",
       "13               545               140                   452           105  \n",
       "14               340                67                   247            48  \n",
       "15               439                27                   305            54  "
      ]
     },
     "execution_count": 233,
     "metadata": {},
     "output_type": "execute_result"
    }
   ],
   "source": [
    "df2"
   ]
  },
  {
   "cell_type": "code",
   "execution_count": 234,
   "id": "e099dc3c",
   "metadata": {},
   "outputs": [
    {
     "data": {
      "image/png": "[encoded data removed]",
      "text/plain": [
       "<Figure size 1152x432 with 1 Axes>"
      ]
     },
     "metadata": {
      "needs_background": "light"
     },
     "output_type": "display_data"
    }
   ],
   "source": [
    "# libraries\n",
    "import numpy as np\n",
    "import matplotlib.pyplot as plt\n",
    "from matplotlib import rc\n",
    "import pandas as pd\n",
    " \n",
    "# Data\n",
    "r = list(df2['annontation'])\n",
    " \n",
    "# From raw value to percentage\n",
    "totals = [i+j+k+l+m+n+o for i,j,k,l,m,n,o in zip(df2['adjs_num'], df2['verbs_num'],\n",
    "                                         df2['nouns_num'], df2['noun_phrases_num'], df2['verb_phrases_num'], df2['adj_noun_phrases_num'], df2['entities_num'])]\n",
    "\n",
    "adjs_num = [i / j * 100 for i,j in zip(df2['adjs_num'], totals)]\n",
    "verbs_num = [i / j * 100 for i,j in zip(df2['verbs_num'], totals)]\n",
    "nouns_num = [i / j * 100 for i,j in zip(df2['nouns_num'], totals)]\n",
    "noun_phrases_num = [i / j * 100 for i,j in zip(df2['noun_phrases_num'], totals)]\n",
    "verb_phrases_num = [i / j * 100 for i,j in zip(df2['verb_phrases_num'], totals)]\n",
    "adj_noun_phrases_num = [i / j * 100 for i,j in zip(df2['adj_noun_phrases_num'], totals)]\n",
    "entities_num = [i / j * 100 for i,j in zip(df2['entities_num'], totals)]\n",
    " \n",
    "# plot\n",
    "barWidth = 0.85\n",
    "names = tuple(list(df2['annontation']))\n",
    "# Create green Bars\n",
    "plt.bar(r, adjs_num, color='#b5ffb9', edgecolor='white', width=barWidth, label=\"Adjectives\")\n",
    "#Create orange Bars\n",
    "plt.bar(r, verbs_num, bottom=adjs_num, color='#f9bc86', edgecolor='white', width=barWidth, label=\"Verbs\")\n",
    "# Create blue Bars\n",
    "plt.bar(r, nouns_num, bottom=[i+j for i,j in zip(adjs_num, verbs_num)], color='#a3acff', edgecolor='white', width=barWidth, label=\"Nouns\")\n",
    "plt.bar(r, noun_phrases_num, bottom=[i+j+k for i,j,k in zip(adjs_num, verbs_num, nouns_num)], color='#ffcccc', edgecolor='white', width=barWidth, label=\"Noun Phrases\")\n",
    "plt.bar(r, verb_phrases_num, bottom=[i+j+k+l for i,j,k,l in zip(adjs_num, verbs_num, nouns_num, noun_phrases_num)], color='#ffff99', edgecolor='white', width=barWidth, label=\"Verb phrases\")\n",
    "plt.bar(r, adj_noun_phrases_num, bottom=[i+j+k+l+m for i,j,k,l,m in zip(adjs_num, verbs_num, nouns_num, noun_phrases_num,verb_phrases_num)], color='#99ffff', edgecolor='white', width=barWidth, label=\"Adjective+Noun\")\n",
    "plt.bar(r, entities_num, bottom=[i+j+k+l+m+n for i,j,k,l,m,n in zip(adjs_num, verbs_num, nouns_num, noun_phrases_num,verb_phrases_num,adj_noun_phrases_num)], color='#ff4d4d', edgecolor='white', width=barWidth, label=\"Entities\")\n",
    "\n",
    " \n",
    "# Custom x axis\n",
    "plt.xticks(r, names, rotation=90)\n",
    "plt.xlabel(\"group\")\n",
    " \n",
    "# Add a legend\n",
    "plt.legend(loc='upper left', bbox_to_anchor=(1,1), ncol=1)\n",
    "\n",
    "plt.ylabel(\"% word type appears\")\n",
    "plt.title('Distribution of word types in each group of tweets') \n",
    "# Show graphic\n",
    "plt.rcParams[\"figure.figsize\"] = (16,6)\n",
    "plt.show()"
   ]
  },
  {
   "cell_type": "markdown",
   "id": "7f111e1a",
   "metadata": {},
   "source": [
    "### 2. Similarities"
   ]
  },
  {
   "cell_type": "markdown",
   "id": "99d75dc7",
   "metadata": {},
   "source": [
    "First we take all the text for each group and put it into one row."
   ]
  },
  {
   "cell_type": "code",
   "execution_count": 235,
   "id": "61b08b14",
   "metadata": {},
   "outputs": [],
   "source": [
    "dfg = df.groupby(\"annontation\")\n",
    "# for x , y in dfg:\n",
    "#      print(x)\n",
    "#      print(y)\n",
    "\n",
    "    \n",
    "    "
   ]
  },
  {
   "cell_type": "code",
   "execution_count": 236,
   "id": "f0cfa45c",
   "metadata": {},
   "outputs": [],
   "source": [
    "column_names= [\"Annontation\", \"Text\"]\n",
    "df_groups = pd.DataFrame(columns = column_names)   \n",
    "annots = []\n",
    "fulltexts = []\n",
    "\n",
    "for x, y in dfg:\n",
    "    #print(x)\n",
    "    #print(y['text'].str.cat(sep=', '))\n",
    "    annots.append(x)\n",
    "    fulltexts.append(y['text'].str.cat(sep=', '))"
   ]
  },
  {
   "cell_type": "code",
   "execution_count": 237,
   "id": "65c1662f",
   "metadata": {},
   "outputs": [],
   "source": [
    "dfg2 = pd.DataFrame({\"Annontation\": annots, \"Text\": fulltexts})"
   ]
  },
  {
   "cell_type": "code",
   "execution_count": 238,
   "id": "4f12a899",
   "metadata": {},
   "outputs": [
    {
     "data": {
      "text/html": [
       "<div>\n",
       "<style scoped>\n",
       "    .dataframe tbody tr th:only-of-type {\n",
       "        vertical-align: middle;\n",
       "    }\n",
       "\n",
       "    .dataframe tbody tr th {\n",
       "        vertical-align: top;\n",
       "    }\n",
       "\n",
       "    .dataframe thead th {\n",
       "        text-align: right;\n",
       "    }\n",
       "</style>\n",
       "<table border=\"1\" class=\"dataframe\">\n",
       "  <thead>\n",
       "    <tr style=\"text-align: right;\">\n",
       "      <th></th>\n",
       "      <th>Annontation</th>\n",
       "      <th>Text</th>\n",
       "    </tr>\n",
       "  </thead>\n",
       "  <tbody>\n",
       "    <tr>\n",
       "      <th>0</th>\n",
       "      <td>ambiguous or hard to classify</td>\n",
       "      <td>are hand dryers effective in killing the new c...</td>\n",
       "    </tr>\n",
       "    <tr>\n",
       "      <th>1</th>\n",
       "      <td>calling out or correction</td>\n",
       "      <td>no, lime juice won't immunize you: some people...</td>\n",
       "    </tr>\n",
       "    <tr>\n",
       "      <th>2</th>\n",
       "      <td>commercial activity or promotion</td>\n",
       "      <td>visit https://t.co/gqrtz87i0w for new jersey #...</td>\n",
       "    </tr>\n",
       "    <tr>\n",
       "      <th>3</th>\n",
       "      <td>conspiracy</td>\n",
       "      <td>do you think the coronavirus is a natural occu...</td>\n",
       "    </tr>\n",
       "    <tr>\n",
       "      <th>4</th>\n",
       "      <td>emergency</td>\n",
       "      <td>bfhp is in need of essential supplies due to c...</td>\n",
       "    </tr>\n",
       "    <tr>\n",
       "      <th>5</th>\n",
       "      <td>fake cure</td>\n",
       "      <td>“anti-vaxxers have the cure to the coronavirus...</td>\n",
       "    </tr>\n",
       "    <tr>\n",
       "      <th>6</th>\n",
       "      <td>fake treatment</td>\n",
       "      <td>i currently have the flu (haven't been tested ...</td>\n",
       "    </tr>\n",
       "    <tr>\n",
       "      <th>7</th>\n",
       "      <td>false fact or prevention</td>\n",
       "      <td>if you went to dr. ricciardi in east orange as...</td>\n",
       "    </tr>\n",
       "    <tr>\n",
       "      <th>8</th>\n",
       "      <td>false public health response</td>\n",
       "      <td>italy allows malaria and hiv drugs for coronav...</td>\n",
       "    </tr>\n",
       "    <tr>\n",
       "      <th>9</th>\n",
       "      <td>irrelevant</td>\n",
       "      <td>pags parody! plus, joe talks coronavirus and h...</td>\n",
       "    </tr>\n",
       "    <tr>\n",
       "      <th>10</th>\n",
       "      <td>news</td>\n",
       "      <td>health authorities have identified a new coron...</td>\n",
       "    </tr>\n",
       "    <tr>\n",
       "      <th>11</th>\n",
       "      <td>panic buying</td>\n",
       "      <td>as the demand for hand sanitisers soars in the...</td>\n",
       "    </tr>\n",
       "    <tr>\n",
       "      <th>12</th>\n",
       "      <td>politics</td>\n",
       "      <td>i hope your father recovers from the virus as ...</td>\n",
       "    </tr>\n",
       "    <tr>\n",
       "      <th>13</th>\n",
       "      <td>sarcasm or satire</td>\n",
       "      <td>i protected myself from the coronavirus by wea...</td>\n",
       "    </tr>\n",
       "    <tr>\n",
       "      <th>14</th>\n",
       "      <td>true prevention</td>\n",
       "      <td>wash your hands as often as possible #cureforc...</td>\n",
       "    </tr>\n",
       "    <tr>\n",
       "      <th>15</th>\n",
       "      <td>true public health response</td>\n",
       "      <td>delhi hc restrains publication of certain adve...</td>\n",
       "    </tr>\n",
       "  </tbody>\n",
       "</table>\n",
       "</div>"
      ],
      "text/plain": [
       "                         Annontation  \\\n",
       "0      ambiguous or hard to classify   \n",
       "1          calling out or correction   \n",
       "2   commercial activity or promotion   \n",
       "3                         conspiracy   \n",
       "4                          emergency   \n",
       "5                          fake cure   \n",
       "6                     fake treatment   \n",
       "7           false fact or prevention   \n",
       "8       false public health response   \n",
       "9                         irrelevant   \n",
       "10                              news   \n",
       "11                      panic buying   \n",
       "12                          politics   \n",
       "13                 sarcasm or satire   \n",
       "14                   true prevention   \n",
       "15       true public health response   \n",
       "\n",
       "                                                 Text  \n",
       "0   are hand dryers effective in killing the new c...  \n",
       "1   no, lime juice won't immunize you: some people...  \n",
       "2   visit https://t.co/gqrtz87i0w for new jersey #...  \n",
       "3   do you think the coronavirus is a natural occu...  \n",
       "4   bfhp is in need of essential supplies due to c...  \n",
       "5   “anti-vaxxers have the cure to the coronavirus...  \n",
       "6   i currently have the flu (haven't been tested ...  \n",
       "7   if you went to dr. ricciardi in east orange as...  \n",
       "8   italy allows malaria and hiv drugs for coronav...  \n",
       "9   pags parody! plus, joe talks coronavirus and h...  \n",
       "10  health authorities have identified a new coron...  \n",
       "11  as the demand for hand sanitisers soars in the...  \n",
       "12  i hope your father recovers from the virus as ...  \n",
       "13  i protected myself from the coronavirus by wea...  \n",
       "14  wash your hands as often as possible #cureforc...  \n",
       "15  delhi hc restrains publication of certain adve...  "
      ]
     },
     "execution_count": 238,
     "metadata": {},
     "output_type": "execute_result"
    }
   ],
   "source": [
    "dfg2"
   ]
  },
  {
   "cell_type": "markdown",
   "id": "6073f844",
   "metadata": {},
   "source": [
    "Then we convert the text into a matrix where each word is a column and it gets a value 1 if it appears in the group."
   ]
  },
  {
   "cell_type": "code",
   "execution_count": 239,
   "id": "cdcbcb16",
   "metadata": {},
   "outputs": [],
   "source": [
    "dt2 = CountVectorizer().fit_transform(dfg2['Text'])"
   ]
  },
  {
   "cell_type": "markdown",
   "id": "0dc65d2d",
   "metadata": {},
   "source": [
    "We use cosine similarity to produce a correlation matrix"
   ]
  },
  {
   "cell_type": "code",
   "execution_count": 240,
   "id": "28e3db3e",
   "metadata": {},
   "outputs": [],
   "source": [
    "from sklearn.metrics.pairwise import cosine_similarity\n",
    "simi = pd.DataFrame(cosine_similarity(dt2,dt2))"
   ]
  },
  {
   "cell_type": "code",
   "execution_count": 241,
   "id": "2cfcca06",
   "metadata": {},
   "outputs": [
    {
     "data": {
      "text/html": [
       "<div>\n",
       "<style scoped>\n",
       "    .dataframe tbody tr th:only-of-type {\n",
       "        vertical-align: middle;\n",
       "    }\n",
       "\n",
       "    .dataframe tbody tr th {\n",
       "        vertical-align: top;\n",
       "    }\n",
       "\n",
       "    .dataframe thead th {\n",
       "        text-align: right;\n",
       "    }\n",
       "</style>\n",
       "<table border=\"1\" class=\"dataframe\">\n",
       "  <thead>\n",
       "    <tr style=\"text-align: right;\">\n",
       "      <th></th>\n",
       "      <th>0</th>\n",
       "      <th>1</th>\n",
       "      <th>2</th>\n",
       "      <th>3</th>\n",
       "      <th>4</th>\n",
       "      <th>5</th>\n",
       "      <th>6</th>\n",
       "      <th>7</th>\n",
       "      <th>8</th>\n",
       "      <th>9</th>\n",
       "      <th>10</th>\n",
       "      <th>11</th>\n",
       "      <th>12</th>\n",
       "      <th>13</th>\n",
       "      <th>14</th>\n",
       "      <th>15</th>\n",
       "    </tr>\n",
       "  </thead>\n",
       "  <tbody>\n",
       "    <tr>\n",
       "      <th>0</th>\n",
       "      <td>1.000000</td>\n",
       "      <td>0.951407</td>\n",
       "      <td>0.710882</td>\n",
       "      <td>0.928218</td>\n",
       "      <td>0.762031</td>\n",
       "      <td>0.781331</td>\n",
       "      <td>0.755302</td>\n",
       "      <td>0.888132</td>\n",
       "      <td>0.374929</td>\n",
       "      <td>0.894340</td>\n",
       "      <td>0.764297</td>\n",
       "      <td>0.821555</td>\n",
       "      <td>0.894777</td>\n",
       "      <td>0.935070</td>\n",
       "      <td>0.845954</td>\n",
       "      <td>0.819947</td>\n",
       "    </tr>\n",
       "    <tr>\n",
       "      <th>1</th>\n",
       "      <td>0.951407</td>\n",
       "      <td>1.000000</td>\n",
       "      <td>0.768467</td>\n",
       "      <td>0.929981</td>\n",
       "      <td>0.811118</td>\n",
       "      <td>0.807141</td>\n",
       "      <td>0.771616</td>\n",
       "      <td>0.914836</td>\n",
       "      <td>0.447666</td>\n",
       "      <td>0.898867</td>\n",
       "      <td>0.809751</td>\n",
       "      <td>0.855873</td>\n",
       "      <td>0.918822</td>\n",
       "      <td>0.953431</td>\n",
       "      <td>0.885512</td>\n",
       "      <td>0.867512</td>\n",
       "    </tr>\n",
       "    <tr>\n",
       "      <th>2</th>\n",
       "      <td>0.710882</td>\n",
       "      <td>0.768467</td>\n",
       "      <td>1.000000</td>\n",
       "      <td>0.719620</td>\n",
       "      <td>0.725741</td>\n",
       "      <td>0.647337</td>\n",
       "      <td>0.653725</td>\n",
       "      <td>0.824105</td>\n",
       "      <td>0.573720</td>\n",
       "      <td>0.742712</td>\n",
       "      <td>0.811023</td>\n",
       "      <td>0.781266</td>\n",
       "      <td>0.739685</td>\n",
       "      <td>0.717877</td>\n",
       "      <td>0.832002</td>\n",
       "      <td>0.838570</td>\n",
       "    </tr>\n",
       "    <tr>\n",
       "      <th>3</th>\n",
       "      <td>0.928218</td>\n",
       "      <td>0.929981</td>\n",
       "      <td>0.719620</td>\n",
       "      <td>1.000000</td>\n",
       "      <td>0.757918</td>\n",
       "      <td>0.796624</td>\n",
       "      <td>0.731955</td>\n",
       "      <td>0.858089</td>\n",
       "      <td>0.415083</td>\n",
       "      <td>0.893473</td>\n",
       "      <td>0.834459</td>\n",
       "      <td>0.854849</td>\n",
       "      <td>0.901658</td>\n",
       "      <td>0.914212</td>\n",
       "      <td>0.817155</td>\n",
       "      <td>0.874116</td>\n",
       "    </tr>\n",
       "    <tr>\n",
       "      <th>4</th>\n",
       "      <td>0.762031</td>\n",
       "      <td>0.811118</td>\n",
       "      <td>0.725741</td>\n",
       "      <td>0.757918</td>\n",
       "      <td>1.000000</td>\n",
       "      <td>0.678575</td>\n",
       "      <td>0.672576</td>\n",
       "      <td>0.814522</td>\n",
       "      <td>0.436440</td>\n",
       "      <td>0.734060</td>\n",
       "      <td>0.733205</td>\n",
       "      <td>0.733672</td>\n",
       "      <td>0.778550</td>\n",
       "      <td>0.789106</td>\n",
       "      <td>0.819130</td>\n",
       "      <td>0.813748</td>\n",
       "    </tr>\n",
       "    <tr>\n",
       "      <th>5</th>\n",
       "      <td>0.781331</td>\n",
       "      <td>0.807141</td>\n",
       "      <td>0.647337</td>\n",
       "      <td>0.796624</td>\n",
       "      <td>0.678575</td>\n",
       "      <td>1.000000</td>\n",
       "      <td>0.785798</td>\n",
       "      <td>0.747627</td>\n",
       "      <td>0.487822</td>\n",
       "      <td>0.735319</td>\n",
       "      <td>0.722016</td>\n",
       "      <td>0.716538</td>\n",
       "      <td>0.788127</td>\n",
       "      <td>0.786461</td>\n",
       "      <td>0.689336</td>\n",
       "      <td>0.787059</td>\n",
       "    </tr>\n",
       "    <tr>\n",
       "      <th>6</th>\n",
       "      <td>0.755302</td>\n",
       "      <td>0.771616</td>\n",
       "      <td>0.653725</td>\n",
       "      <td>0.731955</td>\n",
       "      <td>0.672576</td>\n",
       "      <td>0.785798</td>\n",
       "      <td>1.000000</td>\n",
       "      <td>0.744831</td>\n",
       "      <td>0.435436</td>\n",
       "      <td>0.693030</td>\n",
       "      <td>0.693619</td>\n",
       "      <td>0.682270</td>\n",
       "      <td>0.737589</td>\n",
       "      <td>0.725426</td>\n",
       "      <td>0.684972</td>\n",
       "      <td>0.741265</td>\n",
       "    </tr>\n",
       "    <tr>\n",
       "      <th>7</th>\n",
       "      <td>0.888132</td>\n",
       "      <td>0.914836</td>\n",
       "      <td>0.824105</td>\n",
       "      <td>0.858089</td>\n",
       "      <td>0.814522</td>\n",
       "      <td>0.747627</td>\n",
       "      <td>0.744831</td>\n",
       "      <td>1.000000</td>\n",
       "      <td>0.463483</td>\n",
       "      <td>0.864897</td>\n",
       "      <td>0.804748</td>\n",
       "      <td>0.837533</td>\n",
       "      <td>0.854271</td>\n",
       "      <td>0.890421</td>\n",
       "      <td>0.905747</td>\n",
       "      <td>0.871630</td>\n",
       "    </tr>\n",
       "    <tr>\n",
       "      <th>8</th>\n",
       "      <td>0.374929</td>\n",
       "      <td>0.447666</td>\n",
       "      <td>0.573720</td>\n",
       "      <td>0.415083</td>\n",
       "      <td>0.436440</td>\n",
       "      <td>0.487822</td>\n",
       "      <td>0.435436</td>\n",
       "      <td>0.463483</td>\n",
       "      <td>1.000000</td>\n",
       "      <td>0.373890</td>\n",
       "      <td>0.574430</td>\n",
       "      <td>0.450327</td>\n",
       "      <td>0.408884</td>\n",
       "      <td>0.376851</td>\n",
       "      <td>0.442588</td>\n",
       "      <td>0.549838</td>\n",
       "    </tr>\n",
       "    <tr>\n",
       "      <th>9</th>\n",
       "      <td>0.894340</td>\n",
       "      <td>0.898867</td>\n",
       "      <td>0.742712</td>\n",
       "      <td>0.893473</td>\n",
       "      <td>0.734060</td>\n",
       "      <td>0.735319</td>\n",
       "      <td>0.693030</td>\n",
       "      <td>0.864897</td>\n",
       "      <td>0.373890</td>\n",
       "      <td>1.000000</td>\n",
       "      <td>0.813790</td>\n",
       "      <td>0.897840</td>\n",
       "      <td>0.878635</td>\n",
       "      <td>0.913416</td>\n",
       "      <td>0.832903</td>\n",
       "      <td>0.858732</td>\n",
       "    </tr>\n",
       "    <tr>\n",
       "      <th>10</th>\n",
       "      <td>0.764297</td>\n",
       "      <td>0.809751</td>\n",
       "      <td>0.811023</td>\n",
       "      <td>0.834459</td>\n",
       "      <td>0.733205</td>\n",
       "      <td>0.722016</td>\n",
       "      <td>0.693619</td>\n",
       "      <td>0.804748</td>\n",
       "      <td>0.574430</td>\n",
       "      <td>0.813790</td>\n",
       "      <td>1.000000</td>\n",
       "      <td>0.862492</td>\n",
       "      <td>0.800070</td>\n",
       "      <td>0.762752</td>\n",
       "      <td>0.769123</td>\n",
       "      <td>0.920379</td>\n",
       "    </tr>\n",
       "    <tr>\n",
       "      <th>11</th>\n",
       "      <td>0.821555</td>\n",
       "      <td>0.855873</td>\n",
       "      <td>0.781266</td>\n",
       "      <td>0.854849</td>\n",
       "      <td>0.733672</td>\n",
       "      <td>0.716538</td>\n",
       "      <td>0.682270</td>\n",
       "      <td>0.837533</td>\n",
       "      <td>0.450327</td>\n",
       "      <td>0.897840</td>\n",
       "      <td>0.862492</td>\n",
       "      <td>1.000000</td>\n",
       "      <td>0.846982</td>\n",
       "      <td>0.856568</td>\n",
       "      <td>0.815039</td>\n",
       "      <td>0.878355</td>\n",
       "    </tr>\n",
       "    <tr>\n",
       "      <th>12</th>\n",
       "      <td>0.894777</td>\n",
       "      <td>0.918822</td>\n",
       "      <td>0.739685</td>\n",
       "      <td>0.901658</td>\n",
       "      <td>0.778550</td>\n",
       "      <td>0.788127</td>\n",
       "      <td>0.737589</td>\n",
       "      <td>0.854271</td>\n",
       "      <td>0.408884</td>\n",
       "      <td>0.878635</td>\n",
       "      <td>0.800070</td>\n",
       "      <td>0.846982</td>\n",
       "      <td>1.000000</td>\n",
       "      <td>0.929048</td>\n",
       "      <td>0.839155</td>\n",
       "      <td>0.869537</td>\n",
       "    </tr>\n",
       "    <tr>\n",
       "      <th>13</th>\n",
       "      <td>0.935070</td>\n",
       "      <td>0.953431</td>\n",
       "      <td>0.717877</td>\n",
       "      <td>0.914212</td>\n",
       "      <td>0.789106</td>\n",
       "      <td>0.786461</td>\n",
       "      <td>0.725426</td>\n",
       "      <td>0.890421</td>\n",
       "      <td>0.376851</td>\n",
       "      <td>0.913416</td>\n",
       "      <td>0.762752</td>\n",
       "      <td>0.856568</td>\n",
       "      <td>0.929048</td>\n",
       "      <td>1.000000</td>\n",
       "      <td>0.865442</td>\n",
       "      <td>0.839416</td>\n",
       "    </tr>\n",
       "    <tr>\n",
       "      <th>14</th>\n",
       "      <td>0.845954</td>\n",
       "      <td>0.885512</td>\n",
       "      <td>0.832002</td>\n",
       "      <td>0.817155</td>\n",
       "      <td>0.819130</td>\n",
       "      <td>0.689336</td>\n",
       "      <td>0.684972</td>\n",
       "      <td>0.905747</td>\n",
       "      <td>0.442588</td>\n",
       "      <td>0.832903</td>\n",
       "      <td>0.769123</td>\n",
       "      <td>0.815039</td>\n",
       "      <td>0.839155</td>\n",
       "      <td>0.865442</td>\n",
       "      <td>1.000000</td>\n",
       "      <td>0.849693</td>\n",
       "    </tr>\n",
       "    <tr>\n",
       "      <th>15</th>\n",
       "      <td>0.819947</td>\n",
       "      <td>0.867512</td>\n",
       "      <td>0.838570</td>\n",
       "      <td>0.874116</td>\n",
       "      <td>0.813748</td>\n",
       "      <td>0.787059</td>\n",
       "      <td>0.741265</td>\n",
       "      <td>0.871630</td>\n",
       "      <td>0.549838</td>\n",
       "      <td>0.858732</td>\n",
       "      <td>0.920379</td>\n",
       "      <td>0.878355</td>\n",
       "      <td>0.869537</td>\n",
       "      <td>0.839416</td>\n",
       "      <td>0.849693</td>\n",
       "      <td>1.000000</td>\n",
       "    </tr>\n",
       "  </tbody>\n",
       "</table>\n",
       "</div>"
      ],
      "text/plain": [
       "          0         1         2         3         4         5         6   \\\n",
       "0   1.000000  0.951407  0.710882  0.928218  0.762031  0.781331  0.755302   \n",
       "1   0.951407  1.000000  0.768467  0.929981  0.811118  0.807141  0.771616   \n",
       "2   0.710882  0.768467  1.000000  0.719620  0.725741  0.647337  0.653725   \n",
       "3   0.928218  0.929981  0.719620  1.000000  0.757918  0.796624  0.731955   \n",
       "4   0.762031  0.811118  0.725741  0.757918  1.000000  0.678575  0.672576   \n",
       "5   0.781331  0.807141  0.647337  0.796624  0.678575  1.000000  0.785798   \n",
       "6   0.755302  0.771616  0.653725  0.731955  0.672576  0.785798  1.000000   \n",
       "7   0.888132  0.914836  0.824105  0.858089  0.814522  0.747627  0.744831   \n",
       "8   0.374929  0.447666  0.573720  0.415083  0.436440  0.487822  0.435436   \n",
       "9   0.894340  0.898867  0.742712  0.893473  0.734060  0.735319  0.693030   \n",
       "10  0.764297  0.809751  0.811023  0.834459  0.733205  0.722016  0.693619   \n",
       "11  0.821555  0.855873  0.781266  0.854849  0.733672  0.716538  0.682270   \n",
       "12  0.894777  0.918822  0.739685  0.901658  0.778550  0.788127  0.737589   \n",
       "13  0.935070  0.953431  0.717877  0.914212  0.789106  0.786461  0.725426   \n",
       "14  0.845954  0.885512  0.832002  0.817155  0.819130  0.689336  0.684972   \n",
       "15  0.819947  0.867512  0.838570  0.874116  0.813748  0.787059  0.741265   \n",
       "\n",
       "          7         8         9         10        11        12        13  \\\n",
       "0   0.888132  0.374929  0.894340  0.764297  0.821555  0.894777  0.935070   \n",
       "1   0.914836  0.447666  0.898867  0.809751  0.855873  0.918822  0.953431   \n",
       "2   0.824105  0.573720  0.742712  0.811023  0.781266  0.739685  0.717877   \n",
       "3   0.858089  0.415083  0.893473  0.834459  0.854849  0.901658  0.914212   \n",
       "4   0.814522  0.436440  0.734060  0.733205  0.733672  0.778550  0.789106   \n",
       "5   0.747627  0.487822  0.735319  0.722016  0.716538  0.788127  0.786461   \n",
       "6   0.744831  0.435436  0.693030  0.693619  0.682270  0.737589  0.725426   \n",
       "7   1.000000  0.463483  0.864897  0.804748  0.837533  0.854271  0.890421   \n",
       "8   0.463483  1.000000  0.373890  0.574430  0.450327  0.408884  0.376851   \n",
       "9   0.864897  0.373890  1.000000  0.813790  0.897840  0.878635  0.913416   \n",
       "10  0.804748  0.574430  0.813790  1.000000  0.862492  0.800070  0.762752   \n",
       "11  0.837533  0.450327  0.897840  0.862492  1.000000  0.846982  0.856568   \n",
       "12  0.854271  0.408884  0.878635  0.800070  0.846982  1.000000  0.929048   \n",
       "13  0.890421  0.376851  0.913416  0.762752  0.856568  0.929048  1.000000   \n",
       "14  0.905747  0.442588  0.832903  0.769123  0.815039  0.839155  0.865442   \n",
       "15  0.871630  0.549838  0.858732  0.920379  0.878355  0.869537  0.839416   \n",
       "\n",
       "          14        15  \n",
       "0   0.845954  0.819947  \n",
       "1   0.885512  0.867512  \n",
       "2   0.832002  0.838570  \n",
       "3   0.817155  0.874116  \n",
       "4   0.819130  0.813748  \n",
       "5   0.689336  0.787059  \n",
       "6   0.684972  0.741265  \n",
       "7   0.905747  0.871630  \n",
       "8   0.442588  0.549838  \n",
       "9   0.832903  0.858732  \n",
       "10  0.769123  0.920379  \n",
       "11  0.815039  0.878355  \n",
       "12  0.839155  0.869537  \n",
       "13  0.865442  0.839416  \n",
       "14  1.000000  0.849693  \n",
       "15  0.849693  1.000000  "
      ]
     },
     "execution_count": 241,
     "metadata": {},
     "output_type": "execute_result"
    }
   ],
   "source": [
    "simi"
   ]
  },
  {
   "cell_type": "markdown",
   "id": "bff3a7b5",
   "metadata": {},
   "source": [
    "We display this in a heat map, with lighter colours representing a higher similarity. For example, 13 and 1 have a value of 0.95. These groups of tweets are very similar. What groups are they?\n"
   ]
  },
  {
   "cell_type": "code",
   "execution_count": 242,
   "id": "7f787e0c",
   "metadata": {},
   "outputs": [
    {
     "data": {
      "text/plain": [
       "('calling out or correction', 'sarcasm or satire')"
      ]
     },
     "execution_count": 242,
     "metadata": {},
     "output_type": "execute_result"
    }
   ],
   "source": [
    "annots[1], annots[13] "
   ]
  },
  {
   "cell_type": "markdown",
   "id": "2a78a577",
   "metadata": {},
   "source": [
    "So calling out/correction and sarcasm tweets are similar."
   ]
  },
  {
   "cell_type": "code",
   "execution_count": 243,
   "id": "b3600de3",
   "metadata": {},
   "outputs": [
    {
     "data": {
      "text/plain": [
       "<AxesSubplot:>"
      ]
     },
     "execution_count": 243,
     "metadata": {},
     "output_type": "execute_result"
    },
    {
     "data": {
      "image/png": "[encoded data removed]",
      "text/plain": [
       "<Figure size 864x576 with 2 Axes>"
      ]
     },
     "metadata": {
      "needs_background": "light"
     },
     "output_type": "display_data"
    }
   ],
   "source": [
    "plt.figure(figsize=(12, 8))\n",
    "sns.heatmap(simi, annot=True)"
   ]
  },
  {
   "cell_type": "markdown",
   "id": "03bb856e",
   "metadata": {},
   "source": [
    "#### 3. Distribution of word types in entire distribution."
   ]
  },
  {
   "cell_type": "markdown",
   "id": "8bc9f0ad",
   "metadata": {},
   "source": [
    "We sum up the number of each word type and display as a percentage of the entire dataset"
   ]
  },
  {
   "cell_type": "code",
   "execution_count": 244,
   "id": "d16d11fb",
   "metadata": {},
   "outputs": [
    {
     "data": {
      "text/plain": [
       "annontation             irrelevantirrelevantirrelevantirrelevantpoliti...\n",
       "adjs_num                                                            21030\n",
       "verbs_num                                                           13184\n",
       "nouns_num                                                           31841\n",
       "noun_phrases_num                                                     8004\n",
       "verb_phrases_num                                                     1207\n",
       "adj_noun_phrases_num                                                 6010\n",
       "entities_num                                                         1104\n",
       "dtype: object"
      ]
     },
     "execution_count": 244,
     "metadata": {},
     "output_type": "execute_result"
    }
   ],
   "source": [
    "dfb3 = df1.sum()\n",
    "dfb3"
   ]
  },
  {
   "cell_type": "code",
   "execution_count": 245,
   "id": "1156ccc3",
   "metadata": {},
   "outputs": [
    {
     "data": {
      "text/plain": [
       "adjs_num                21030\n",
       "verbs_num               13184\n",
       "nouns_num               31841\n",
       "noun_phrases_num         8004\n",
       "verb_phrases_num         1207\n",
       "adj_noun_phrases_num     6010\n",
       "entities_num             1104\n",
       "dtype: object"
      ]
     },
     "execution_count": 245,
     "metadata": {},
     "output_type": "execute_result"
    }
   ],
   "source": [
    "dfb3[1:8]"
   ]
  },
  {
   "cell_type": "code",
   "execution_count": 246,
   "id": "3a7865cb",
   "metadata": {},
   "outputs": [
    {
     "data": {
      "text/plain": [
       "<AxesSubplot:>"
      ]
     },
     "execution_count": 246,
     "metadata": {},
     "output_type": "execute_result"
    },
    {
     "data": {
      "image/png": "[encoded data removed]",
      "text/plain": [
       "<Figure size 1152x504 with 1 Axes>"
      ]
     },
     "metadata": {
      "needs_background": "light"
     },
     "output_type": "display_data"
    }
   ],
   "source": [
    "\n",
    "#!pip install squarify\n",
    "import squarify\n",
    "label= [\"Adjectives\", \"Verbs\", \"Nouns\", \"Noun Phrases\", \"Verb Phrases\", \"Adjective+Noun\", \"Entities\"]\n",
    "\n",
    "perc = [f'{i/dfb3[1:8].sum()*100:5.2f}%' for i in dfb3[1:8]]\n",
    "lbl = [f'{el[0]}: {el[1]}' for el in zip(label, perc)]\n",
    "plt.figure(figsize=(16, 7))\n",
    "squarify.plot(sizes=dfb3[1:8], label=lbl, alpha=.8 )\n",
    "#squarify.plot(sizes=dfb3[1:6], label =[\"Adjectives\", \"Verbs\", \"Nouns\", \"Noun Phrases\", \"Verb Phrases\", \"Adjective+Noun\"], alpha=.8 )\n",
    "#plt.axis('off')\n",
    "#plt.show()"
   ]
  },
  {
   "cell_type": "markdown",
   "id": "75d2643d",
   "metadata": {},
   "source": [
    "#### 4. Which annotated category has the highest number of user mentions?"
   ]
  },
  {
   "cell_type": "markdown",
   "id": "445e49f9",
   "metadata": {},
   "source": [
    "We count the number of mentions per tweet then aggregate up for each group of tweets to see which has the most mentions"
   ]
  },
  {
   "cell_type": "code",
   "execution_count": 247,
   "id": "77d3c044",
   "metadata": {},
   "outputs": [],
   "source": [
    "df['numuser'] = df.text.str.count(\"@user\")"
   ]
  },
  {
   "cell_type": "code",
   "execution_count": 248,
   "id": "e7a9e22b",
   "metadata": {},
   "outputs": [],
   "source": [
    "dfb4 = df[df.columns[np.concatenate([range(2,3),range(29,30)])]]"
   ]
  },
  {
   "cell_type": "code",
   "execution_count": 249,
   "id": "57d8a15e",
   "metadata": {},
   "outputs": [
    {
     "data": {
      "text/html": [
       "<div>\n",
       "<style scoped>\n",
       "    .dataframe tbody tr th:only-of-type {\n",
       "        vertical-align: middle;\n",
       "    }\n",
       "\n",
       "    .dataframe tbody tr th {\n",
       "        vertical-align: top;\n",
       "    }\n",
       "\n",
       "    .dataframe thead th {\n",
       "        text-align: right;\n",
       "    }\n",
       "</style>\n",
       "<table border=\"1\" class=\"dataframe\">\n",
       "  <thead>\n",
       "    <tr style=\"text-align: right;\">\n",
       "      <th></th>\n",
       "      <th>annontation</th>\n",
       "      <th>numuser</th>\n",
       "    </tr>\n",
       "  </thead>\n",
       "  <tbody>\n",
       "    <tr>\n",
       "      <th>0</th>\n",
       "      <td>ambiguous or hard to classify</td>\n",
       "      <td>38</td>\n",
       "    </tr>\n",
       "    <tr>\n",
       "      <th>1</th>\n",
       "      <td>calling out or correction</td>\n",
       "      <td>381</td>\n",
       "    </tr>\n",
       "    <tr>\n",
       "      <th>2</th>\n",
       "      <td>commercial activity or promotion</td>\n",
       "      <td>6</td>\n",
       "    </tr>\n",
       "    <tr>\n",
       "      <th>3</th>\n",
       "      <td>conspiracy</td>\n",
       "      <td>166</td>\n",
       "    </tr>\n",
       "    <tr>\n",
       "      <th>4</th>\n",
       "      <td>emergency</td>\n",
       "      <td>8</td>\n",
       "    </tr>\n",
       "    <tr>\n",
       "      <th>5</th>\n",
       "      <td>fake cure</td>\n",
       "      <td>71</td>\n",
       "    </tr>\n",
       "    <tr>\n",
       "      <th>6</th>\n",
       "      <td>fake treatment</td>\n",
       "      <td>22</td>\n",
       "    </tr>\n",
       "    <tr>\n",
       "      <th>7</th>\n",
       "      <td>false fact or prevention</td>\n",
       "      <td>51</td>\n",
       "    </tr>\n",
       "    <tr>\n",
       "      <th>8</th>\n",
       "      <td>false public health response</td>\n",
       "      <td>0</td>\n",
       "    </tr>\n",
       "    <tr>\n",
       "      <th>9</th>\n",
       "      <td>irrelevant</td>\n",
       "      <td>22</td>\n",
       "    </tr>\n",
       "    <tr>\n",
       "      <th>10</th>\n",
       "      <td>news</td>\n",
       "      <td>31</td>\n",
       "    </tr>\n",
       "    <tr>\n",
       "      <th>11</th>\n",
       "      <td>panic buying</td>\n",
       "      <td>17</td>\n",
       "    </tr>\n",
       "    <tr>\n",
       "      <th>12</th>\n",
       "      <td>politics</td>\n",
       "      <td>190</td>\n",
       "    </tr>\n",
       "    <tr>\n",
       "      <th>13</th>\n",
       "      <td>sarcasm or satire</td>\n",
       "      <td>78</td>\n",
       "    </tr>\n",
       "    <tr>\n",
       "      <th>14</th>\n",
       "      <td>true prevention</td>\n",
       "      <td>32</td>\n",
       "    </tr>\n",
       "    <tr>\n",
       "      <th>15</th>\n",
       "      <td>true public health response</td>\n",
       "      <td>53</td>\n",
       "    </tr>\n",
       "  </tbody>\n",
       "</table>\n",
       "</div>"
      ],
      "text/plain": [
       "                         annontation  numuser\n",
       "0      ambiguous or hard to classify       38\n",
       "1          calling out or correction      381\n",
       "2   commercial activity or promotion        6\n",
       "3                         conspiracy      166\n",
       "4                          emergency        8\n",
       "5                          fake cure       71\n",
       "6                     fake treatment       22\n",
       "7           false fact or prevention       51\n",
       "8       false public health response        0\n",
       "9                         irrelevant       22\n",
       "10                              news       31\n",
       "11                      panic buying       17\n",
       "12                          politics      190\n",
       "13                 sarcasm or satire       78\n",
       "14                   true prevention       32\n",
       "15       true public health response       53"
      ]
     },
     "execution_count": 249,
     "metadata": {},
     "output_type": "execute_result"
    }
   ],
   "source": [
    "dfb4a = dfb4.groupby('annontation', as_index=False).sum()\n",
    "dfb4a"
   ]
  },
  {
   "cell_type": "code",
   "execution_count": 250,
   "id": "0397e157",
   "metadata": {},
   "outputs": [],
   "source": [
    "totals = dfb4.groupby('annontation', as_index=False).agg('count')\n",
    "dfb4a['percent'] = (dfb4a['numuser']/totals['numuser'])*100"
   ]
  },
  {
   "cell_type": "markdown",
   "id": "97ac1f19",
   "metadata": {},
   "source": [
    "From the table below, fake treatment has the most mentions per tweet with ~105%."
   ]
  },
  {
   "cell_type": "code",
   "execution_count": 251,
   "id": "2b98f0eb",
   "metadata": {
    "scrolled": true
   },
   "outputs": [
    {
     "data": {
      "text/html": [
       "<div>\n",
       "<style scoped>\n",
       "    .dataframe tbody tr th:only-of-type {\n",
       "        vertical-align: middle;\n",
       "    }\n",
       "\n",
       "    .dataframe tbody tr th {\n",
       "        vertical-align: top;\n",
       "    }\n",
       "\n",
       "    .dataframe thead th {\n",
       "        text-align: right;\n",
       "    }\n",
       "</style>\n",
       "<table border=\"1\" class=\"dataframe\">\n",
       "  <thead>\n",
       "    <tr style=\"text-align: right;\">\n",
       "      <th></th>\n",
       "      <th>annontation</th>\n",
       "      <th>numuser</th>\n",
       "      <th>percent</th>\n",
       "    </tr>\n",
       "  </thead>\n",
       "  <tbody>\n",
       "    <tr>\n",
       "      <th>0</th>\n",
       "      <td>ambiguous or hard to classify</td>\n",
       "      <td>38</td>\n",
       "      <td>33.628319</td>\n",
       "    </tr>\n",
       "    <tr>\n",
       "      <th>1</th>\n",
       "      <td>calling out or correction</td>\n",
       "      <td>381</td>\n",
       "      <td>31.936295</td>\n",
       "    </tr>\n",
       "    <tr>\n",
       "      <th>2</th>\n",
       "      <td>commercial activity or promotion</td>\n",
       "      <td>6</td>\n",
       "      <td>20.689655</td>\n",
       "    </tr>\n",
       "    <tr>\n",
       "      <th>3</th>\n",
       "      <td>conspiracy</td>\n",
       "      <td>166</td>\n",
       "      <td>32.549020</td>\n",
       "    </tr>\n",
       "    <tr>\n",
       "      <th>4</th>\n",
       "      <td>emergency</td>\n",
       "      <td>8</td>\n",
       "      <td>50.000000</td>\n",
       "    </tr>\n",
       "    <tr>\n",
       "      <th>5</th>\n",
       "      <td>fake cure</td>\n",
       "      <td>71</td>\n",
       "      <td>77.173913</td>\n",
       "    </tr>\n",
       "    <tr>\n",
       "      <th>6</th>\n",
       "      <td>fake treatment</td>\n",
       "      <td>22</td>\n",
       "      <td>104.761905</td>\n",
       "    </tr>\n",
       "    <tr>\n",
       "      <th>7</th>\n",
       "      <td>false fact or prevention</td>\n",
       "      <td>51</td>\n",
       "      <td>20.158103</td>\n",
       "    </tr>\n",
       "    <tr>\n",
       "      <th>8</th>\n",
       "      <td>false public health response</td>\n",
       "      <td>0</td>\n",
       "      <td>0.000000</td>\n",
       "    </tr>\n",
       "    <tr>\n",
       "      <th>9</th>\n",
       "      <td>irrelevant</td>\n",
       "      <td>22</td>\n",
       "      <td>20.183486</td>\n",
       "    </tr>\n",
       "    <tr>\n",
       "      <th>10</th>\n",
       "      <td>news</td>\n",
       "      <td>31</td>\n",
       "      <td>33.695652</td>\n",
       "    </tr>\n",
       "    <tr>\n",
       "      <th>11</th>\n",
       "      <td>panic buying</td>\n",
       "      <td>17</td>\n",
       "      <td>26.153846</td>\n",
       "    </tr>\n",
       "    <tr>\n",
       "      <th>12</th>\n",
       "      <td>politics</td>\n",
       "      <td>190</td>\n",
       "      <td>43.378995</td>\n",
       "    </tr>\n",
       "    <tr>\n",
       "      <th>13</th>\n",
       "      <td>sarcasm or satire</td>\n",
       "      <td>78</td>\n",
       "      <td>19.647355</td>\n",
       "    </tr>\n",
       "    <tr>\n",
       "      <th>14</th>\n",
       "      <td>true prevention</td>\n",
       "      <td>32</td>\n",
       "      <td>20.000000</td>\n",
       "    </tr>\n",
       "    <tr>\n",
       "      <th>15</th>\n",
       "      <td>true public health response</td>\n",
       "      <td>53</td>\n",
       "      <td>35.099338</td>\n",
       "    </tr>\n",
       "  </tbody>\n",
       "</table>\n",
       "</div>"
      ],
      "text/plain": [
       "                         annontation  numuser     percent\n",
       "0      ambiguous or hard to classify       38   33.628319\n",
       "1          calling out or correction      381   31.936295\n",
       "2   commercial activity or promotion        6   20.689655\n",
       "3                         conspiracy      166   32.549020\n",
       "4                          emergency        8   50.000000\n",
       "5                          fake cure       71   77.173913\n",
       "6                     fake treatment       22  104.761905\n",
       "7           false fact or prevention       51   20.158103\n",
       "8       false public health response        0    0.000000\n",
       "9                         irrelevant       22   20.183486\n",
       "10                              news       31   33.695652\n",
       "11                      panic buying       17   26.153846\n",
       "12                          politics      190   43.378995\n",
       "13                 sarcasm or satire       78   19.647355\n",
       "14                   true prevention       32   20.000000\n",
       "15       true public health response       53   35.099338"
      ]
     },
     "execution_count": 251,
     "metadata": {},
     "output_type": "execute_result"
    }
   ],
   "source": [
    "dfb4a # one entry can have more than mention, hence fake treatment has more mentions than individual tweets so it's >100%"
   ]
  },
  {
   "cell_type": "markdown",
   "id": "5ef2b1e2",
   "metadata": {},
   "source": [
    "#### 5. Which annotated category uses the most hashtags in a tweet on average?"
   ]
  },
  {
   "cell_type": "code",
   "execution_count": 252,
   "id": "b823dc20",
   "metadata": {},
   "outputs": [],
   "source": [
    "df['hash_count'] = df['hashtags_orig'].str.len()"
   ]
  },
  {
   "cell_type": "code",
   "execution_count": 253,
   "id": "56ad1e75",
   "metadata": {},
   "outputs": [],
   "source": [
    "dfb5 = df[df.columns[np.concatenate([range(2,3),range(30,31)])]]\n",
    "dfb5\n",
    "dfb5a = dfb5.groupby('annontation', as_index=False).sum()\n",
    "totals = dfb5.groupby('annontation', as_index=False).agg('count')\n",
    "dfb5a['totals'] = totals['hash_count']\n",
    "dfb5a['percent'] = (dfb5a['hash_count']/totals['hash_count'])*100\n"
   ]
  },
  {
   "cell_type": "markdown",
   "id": "68039841",
   "metadata": {},
   "source": [
    "Commercial activity has the most hash tags per tweet at ~241% (that's 2.4 hashtags per tweet)"
   ]
  },
  {
   "cell_type": "code",
   "execution_count": 254,
   "id": "6991aabe",
   "metadata": {},
   "outputs": [
    {
     "data": {
      "text/html": [
       "<div>\n",
       "<style scoped>\n",
       "    .dataframe tbody tr th:only-of-type {\n",
       "        vertical-align: middle;\n",
       "    }\n",
       "\n",
       "    .dataframe tbody tr th {\n",
       "        vertical-align: top;\n",
       "    }\n",
       "\n",
       "    .dataframe thead th {\n",
       "        text-align: right;\n",
       "    }\n",
       "</style>\n",
       "<table border=\"1\" class=\"dataframe\">\n",
       "  <thead>\n",
       "    <tr style=\"text-align: right;\">\n",
       "      <th></th>\n",
       "      <th>annontation</th>\n",
       "      <th>hash_count</th>\n",
       "      <th>totals</th>\n",
       "      <th>percent</th>\n",
       "    </tr>\n",
       "  </thead>\n",
       "  <tbody>\n",
       "    <tr>\n",
       "      <th>0</th>\n",
       "      <td>ambiguous or hard to classify</td>\n",
       "      <td>116</td>\n",
       "      <td>113</td>\n",
       "      <td>102.654867</td>\n",
       "    </tr>\n",
       "    <tr>\n",
       "      <th>1</th>\n",
       "      <td>calling out or correction</td>\n",
       "      <td>1017</td>\n",
       "      <td>1193</td>\n",
       "      <td>85.247276</td>\n",
       "    </tr>\n",
       "    <tr>\n",
       "      <th>2</th>\n",
       "      <td>commercial activity or promotion</td>\n",
       "      <td>70</td>\n",
       "      <td>29</td>\n",
       "      <td>241.379310</td>\n",
       "    </tr>\n",
       "    <tr>\n",
       "      <th>3</th>\n",
       "      <td>conspiracy</td>\n",
       "      <td>739</td>\n",
       "      <td>510</td>\n",
       "      <td>144.901961</td>\n",
       "    </tr>\n",
       "    <tr>\n",
       "      <th>4</th>\n",
       "      <td>emergency</td>\n",
       "      <td>16</td>\n",
       "      <td>16</td>\n",
       "      <td>100.000000</td>\n",
       "    </tr>\n",
       "    <tr>\n",
       "      <th>5</th>\n",
       "      <td>fake cure</td>\n",
       "      <td>109</td>\n",
       "      <td>92</td>\n",
       "      <td>118.478261</td>\n",
       "    </tr>\n",
       "    <tr>\n",
       "      <th>6</th>\n",
       "      <td>fake treatment</td>\n",
       "      <td>16</td>\n",
       "      <td>21</td>\n",
       "      <td>76.190476</td>\n",
       "    </tr>\n",
       "    <tr>\n",
       "      <th>7</th>\n",
       "      <td>false fact or prevention</td>\n",
       "      <td>365</td>\n",
       "      <td>253</td>\n",
       "      <td>144.268775</td>\n",
       "    </tr>\n",
       "    <tr>\n",
       "      <th>8</th>\n",
       "      <td>false public health response</td>\n",
       "      <td>0</td>\n",
       "      <td>3</td>\n",
       "      <td>0.000000</td>\n",
       "    </tr>\n",
       "    <tr>\n",
       "      <th>9</th>\n",
       "      <td>irrelevant</td>\n",
       "      <td>184</td>\n",
       "      <td>109</td>\n",
       "      <td>168.807339</td>\n",
       "    </tr>\n",
       "    <tr>\n",
       "      <th>10</th>\n",
       "      <td>news</td>\n",
       "      <td>72</td>\n",
       "      <td>92</td>\n",
       "      <td>78.260870</td>\n",
       "    </tr>\n",
       "    <tr>\n",
       "      <th>11</th>\n",
       "      <td>panic buying</td>\n",
       "      <td>100</td>\n",
       "      <td>65</td>\n",
       "      <td>153.846154</td>\n",
       "    </tr>\n",
       "    <tr>\n",
       "      <th>12</th>\n",
       "      <td>politics</td>\n",
       "      <td>534</td>\n",
       "      <td>438</td>\n",
       "      <td>121.917808</td>\n",
       "    </tr>\n",
       "    <tr>\n",
       "      <th>13</th>\n",
       "      <td>sarcasm or satire</td>\n",
       "      <td>238</td>\n",
       "      <td>397</td>\n",
       "      <td>59.949622</td>\n",
       "    </tr>\n",
       "    <tr>\n",
       "      <th>14</th>\n",
       "      <td>true prevention</td>\n",
       "      <td>210</td>\n",
       "      <td>160</td>\n",
       "      <td>131.250000</td>\n",
       "    </tr>\n",
       "    <tr>\n",
       "      <th>15</th>\n",
       "      <td>true public health response</td>\n",
       "      <td>183</td>\n",
       "      <td>151</td>\n",
       "      <td>121.192053</td>\n",
       "    </tr>\n",
       "  </tbody>\n",
       "</table>\n",
       "</div>"
      ],
      "text/plain": [
       "                         annontation  hash_count  totals     percent\n",
       "0      ambiguous or hard to classify         116     113  102.654867\n",
       "1          calling out or correction        1017    1193   85.247276\n",
       "2   commercial activity or promotion          70      29  241.379310\n",
       "3                         conspiracy         739     510  144.901961\n",
       "4                          emergency          16      16  100.000000\n",
       "5                          fake cure         109      92  118.478261\n",
       "6                     fake treatment          16      21   76.190476\n",
       "7           false fact or prevention         365     253  144.268775\n",
       "8       false public health response           0       3    0.000000\n",
       "9                         irrelevant         184     109  168.807339\n",
       "10                              news          72      92   78.260870\n",
       "11                      panic buying         100      65  153.846154\n",
       "12                          politics         534     438  121.917808\n",
       "13                 sarcasm or satire         238     397   59.949622\n",
       "14                   true prevention         210     160  131.250000\n",
       "15       true public health response         183     151  121.192053"
      ]
     },
     "execution_count": 254,
     "metadata": {},
     "output_type": "execute_result"
    }
   ],
   "source": [
    "dfb5a"
   ]
  },
  {
   "cell_type": "markdown",
   "id": "bd19e2b5",
   "metadata": {},
   "source": [
    "#### 6. What are the top 3 hashtags for each category, including and excluding the hashtags used to filter the tweets?"
   ]
  },
  {
   "cell_type": "markdown",
   "id": "7b1bf944",
   "metadata": {},
   "source": [
    "Create a program that counts the frequency of word appearance. "
   ]
  },
  {
   "cell_type": "code",
   "execution_count": 255,
   "id": "7d69fe11",
   "metadata": {},
   "outputs": [],
   "source": [
    "from collections import Counter\n",
    "def count_words(df, column='tokens', preprocess=None, min_freq=2):\n",
    "\n",
    "    # process tokens and update counter\n",
    "    def update(doc):\n",
    "        tokens = doc if preprocess is None else preprocess(doc)\n",
    "        counter.update(tokens)\n",
    "\n",
    "    # create counter and run through all data\n",
    "    counter = Counter()\n",
    "    df[column].map(update)\n",
    "\n",
    "    # transform counter into a DataFrame\n",
    "    freq_df = pd.DataFrame.from_dict(counter, orient='index', columns=['freq'])\n",
    "    freq_df = freq_df.query('freq >= @min_freq')\n",
    "    freq_df.index.name = 'token'\n",
    "\n",
    "    return freq_df.sort_values('freq', ascending=False)"
   ]
  },
  {
   "cell_type": "code",
   "execution_count": 256,
   "id": "0f155a92",
   "metadata": {},
   "outputs": [],
   "source": [
    "hash_freq_tab =count_words(df, 'hashtags_orig').head(3)\n",
    "#count_words(df, 'noun_p').head(10).plot(kind='barh').invert_yaxis()"
   ]
  },
  {
   "cell_type": "markdown",
   "id": "2823cd2a",
   "metadata": {},
   "source": [
    "Top 3 hashtags per category including all tweets"
   ]
  },
  {
   "cell_type": "code",
   "execution_count": 257,
   "id": "5acc610c",
   "metadata": {},
   "outputs": [
    {
     "name": "stdout",
     "output_type": "stream",
     "text": [
      "ambiguous or hard to classify\n",
      "             freq\n",
      "token            \n",
      "covid19        17\n",
      "coronavirus    14\n",
      "bioweapon       4\n",
      "\n",
      "\n",
      "calling out or correction\n",
      "                  freq\n",
      "token                 \n",
      "coronavirus        179\n",
      "covid19            167\n",
      "coronavirusfacts    23\n",
      "\n",
      "\n",
      "commercial activity or promotion\n",
      "             freq\n",
      "token            \n",
      "covid19         9\n",
      "coronavirus     8\n",
      "covidscams      2\n",
      "\n",
      "\n",
      "conspiracy\n",
      "             freq\n",
      "token            \n",
      "coronavirus   111\n",
      "covid19        63\n",
      "bioweapon      62\n",
      "\n",
      "\n",
      "emergency\n",
      "                         freq\n",
      "token                        \n",
      "coronavirus                 4\n",
      "covid19                     2\n",
      "donateplasmarescuealife     2\n",
      "\n",
      "\n",
      "fake cure\n",
      "             freq\n",
      "token            \n",
      "coronil         8\n",
      "covid19         8\n",
      "coronavirus     6\n",
      "\n",
      "\n",
      "fake treatment\n",
      "                    freq\n",
      "token                   \n",
      "hydroxychloroquine     2\n",
      "coronavirus            2\n",
      "\n",
      "\n",
      "false fact or prevention\n",
      "             freq\n",
      "token            \n",
      "coronavirus    39\n",
      "covid19        35\n",
      "covid_19       18\n",
      "\n",
      "\n",
      "false public health response\n",
      "Empty DataFrame\n",
      "Columns: [freq]\n",
      "Index: []\n",
      "\n",
      "\n",
      "irrelevant\n",
      "             freq\n",
      "token            \n",
      "coronavirus    29\n",
      "covid19        21\n",
      "cooking         4\n",
      "\n",
      "\n",
      "news\n",
      "             freq\n",
      "token            \n",
      "coronavirus    18\n",
      "covid19         8\n",
      "covid           3\n",
      "\n",
      "\n",
      "panic buying\n",
      "             freq\n",
      "token            \n",
      "coronavirus    20\n",
      "covid19         7\n",
      "covidー19        4\n",
      "\n",
      "\n",
      "politics\n",
      "             freq\n",
      "token            \n",
      "coronavirus    60\n",
      "covid19        54\n",
      "trump          37\n",
      "\n",
      "\n",
      "sarcasm or satire\n",
      "                  freq\n",
      "token                 \n",
      "coronavirus         38\n",
      "covid19             34\n",
      "socialdistancing     6\n",
      "\n",
      "\n",
      "true prevention\n",
      "             freq\n",
      "token            \n",
      "covid19        48\n",
      "coronavirus    26\n",
      "covid_19        6\n",
      "\n",
      "\n",
      "true public health response\n",
      "                    freq\n",
      "token                   \n",
      "covid19               28\n",
      "coronavirus           23\n",
      "hydroxychloroquine     6\n",
      "\n",
      "\n"
     ]
    }
   ],
   "source": [
    "for x in dfb5a['annontation']:\n",
    "    print(x)\n",
    "    print(count_words(df.loc[df['annontation'] == x], 'hashtags_orig').head(3))\n",
    "    print('\\n')"
   ]
  },
  {
   "cell_type": "markdown",
   "id": "8f1ee257",
   "metadata": {},
   "source": [
    "Top 3 hashtags per category excluding tweets quoted in the assignment"
   ]
  },
  {
   "cell_type": "code",
   "execution_count": 258,
   "id": "5c6b4e50",
   "metadata": {},
   "outputs": [
    {
     "name": "stdout",
     "output_type": "stream",
     "text": [
      "ambiguous or hard to classify\n",
      "           freq\n",
      "token          \n",
      "bioweapon     4\n",
      "billgates     3\n",
      "covid         3\n",
      "\n",
      "\n",
      "calling out or correction\n",
      "                  freq\n",
      "token                 \n",
      "coronavirusfacts    23\n",
      "lie                 23\n",
      "covidiots           22\n",
      "\n",
      "\n",
      "commercial activity or promotion\n",
      "              freq\n",
      "token             \n",
      "covidscams       2\n",
      "disinfectant     2\n",
      "cleaning         2\n",
      "\n",
      "\n",
      "conspiracy\n",
      "           freq\n",
      "token          \n",
      "bioweapon    62\n",
      "china        26\n",
      "5g           14\n",
      "\n",
      "\n",
      "emergency\n",
      "                         freq\n",
      "token                        \n",
      "donateplasmarescuealife     2\n",
      "\n",
      "\n",
      "fake cure\n",
      "                    freq\n",
      "token                   \n",
      "coronil                8\n",
      "covid                  6\n",
      "hydroxychloroquine     6\n",
      "\n",
      "\n",
      "fake treatment\n",
      "                    freq\n",
      "token                   \n",
      "hydroxychloroquine     2\n",
      "\n",
      "\n",
      "false fact or prevention\n",
      "                    freq\n",
      "token                   \n",
      "covid_19              18\n",
      "hydroxychloroquine     7\n",
      "health                 6\n",
      "\n",
      "\n",
      "false public health response\n",
      "Empty DataFrame\n",
      "Columns: [freq]\n",
      "Index: []\n",
      "\n",
      "\n",
      "irrelevant\n",
      "                freq\n",
      "token               \n",
      "cooking            4\n",
      "quarantinelife     4\n",
      "covidー19           3\n",
      "\n",
      "\n",
      "news\n",
      "             freq\n",
      "token            \n",
      "covid           3\n",
      "saudiarabia     2\n",
      "icis            2\n",
      "\n",
      "\n",
      "panic buying\n",
      "             freq\n",
      "token            \n",
      "covidー19        4\n",
      "toiletpaper     3\n",
      "covid2019       3\n",
      "\n",
      "\n",
      "politics\n",
      "             freq\n",
      "token            \n",
      "trump          37\n",
      "trumpvirus     12\n",
      "donaldtrump     8\n",
      "\n",
      "\n",
      "sarcasm or satire\n",
      "                  freq\n",
      "token                 \n",
      "socialdistancing     6\n",
      "trump                6\n",
      "covid_19             4\n",
      "\n",
      "\n",
      "true prevention\n",
      "              freq\n",
      "token             \n",
      "covid_19         6\n",
      "disinfectant     4\n",
      "staysafe         4\n",
      "\n",
      "\n",
      "true public health response\n",
      "                    freq\n",
      "token                   \n",
      "hydroxychloroquine     6\n",
      "covidscams             4\n",
      "who                    4\n",
      "\n",
      "\n"
     ]
    }
   ],
   "source": [
    "for x in dfb5a['annontation']:\n",
    "    print(x)\n",
    "    print(count_words(df.loc[df['annontation'] == x], 'hashtags_del').head(3))\n",
    "    print('\\n')"
   ]
  },
  {
   "cell_type": "markdown",
   "id": "60d5298e",
   "metadata": {},
   "source": [
    "### Task C -  Affect Analysis "
   ]
  },
  {
   "cell_type": "code",
   "execution_count": 259,
   "id": "61f189ff",
   "metadata": {},
   "outputs": [],
   "source": [
    "from nltk.sentiment.vader import SentimentIntensityAnalyzer\n",
    "\n",
    "sid = SentimentIntensityAnalyzer()"
   ]
  },
  {
   "cell_type": "code",
   "execution_count": 260,
   "id": "ba3767b8",
   "metadata": {},
   "outputs": [
    {
     "data": {
      "text/plain": [
       "0     are hand dryers effective in killing the new c...\n",
       "1     no, lime juice won't immunize you: some people...\n",
       "2     visit https://t.co/gqrtz87i0w for new jersey #...\n",
       "3     do you think the coronavirus is a natural occu...\n",
       "4     bfhp is in need of essential supplies due to c...\n",
       "5     “anti-vaxxers have the cure to the coronavirus...\n",
       "6     i currently have the flu (haven't been tested ...\n",
       "7     if you went to dr. ricciardi in east orange as...\n",
       "8     italy allows malaria and hiv drugs for coronav...\n",
       "9     pags parody! plus, joe talks coronavirus and h...\n",
       "10    health authorities have identified a new coron...\n",
       "11    as the demand for hand sanitisers soars in the...\n",
       "12    i hope your father recovers from the virus as ...\n",
       "13    i protected myself from the coronavirus by wea...\n",
       "14    wash your hands as often as possible #cureforc...\n",
       "15    delhi hc restrains publication of certain adve...\n",
       "Name: Text, dtype: object"
      ]
     },
     "execution_count": 260,
     "metadata": {},
     "output_type": "execute_result"
    }
   ],
   "source": [
    "dfg2['Text'] ####here is the column we'll do the analysis on "
   ]
  },
  {
   "cell_type": "markdown",
   "id": "362994b9",
   "metadata": {},
   "source": [
    "This prepares a dataset with the group and all the text within the group. "
   ]
  },
  {
   "cell_type": "code",
   "execution_count": 261,
   "id": "1ac6da5f",
   "metadata": {},
   "outputs": [],
   "source": [
    "column_names= [\"Annontation\", \"Text\"]\n",
    "df_groups = pd.DataFrame(columns = column_names)   \n",
    "annots = []\n",
    "fulltexts = []\n",
    "\n",
    "for x, y in dfg:\n",
    "    #print(x)\n",
    "    #print(y['text'].str.cat(sep=', '))\n",
    "    annots.append(x)\n",
    "    fulltexts.append(y['text5'].str.cat(sep=', '))\n",
    "\n",
    "dfg2 = pd.DataFrame({\"Annontation\": annots, \"Text\": fulltexts})"
   ]
  },
  {
   "cell_type": "markdown",
   "id": "3a3976fe",
   "metadata": {},
   "source": [
    "We now use the vader dictionary on the text. This matches up words in the dictionary with the words in the tweets and gives it a score based on those words. For example, if the text contains the word \"good\" then it will receive +1, if it contains the word \"bad\" it will receive -1 points. If it contains \"very bad\" it will get -2, for example. Depending on how positive/negative the word/phrase it, it gets more/less points. From this we can give each body of a text a score for positive or negative to see if each groups' tweets are positive or negative."
   ]
  },
  {
   "cell_type": "code",
   "execution_count": 262,
   "id": "f79039f4",
   "metadata": {},
   "outputs": [
    {
     "data": {
      "text/html": [
       "<div>\n",
       "<style scoped>\n",
       "    .dataframe tbody tr th:only-of-type {\n",
       "        vertical-align: middle;\n",
       "    }\n",
       "\n",
       "    .dataframe tbody tr th {\n",
       "        vertical-align: top;\n",
       "    }\n",
       "\n",
       "    .dataframe thead th {\n",
       "        text-align: right;\n",
       "    }\n",
       "</style>\n",
       "<table border=\"1\" class=\"dataframe\">\n",
       "  <thead>\n",
       "    <tr style=\"text-align: right;\">\n",
       "      <th></th>\n",
       "      <th>Annontation</th>\n",
       "      <th>Text</th>\n",
       "      <th>scores</th>\n",
       "    </tr>\n",
       "  </thead>\n",
       "  <tbody>\n",
       "    <tr>\n",
       "      <th>0</th>\n",
       "      <td>ambiguous or hard to classify</td>\n",
       "      <td>are hand dryers effective in killing the new c...</td>\n",
       "      <td>{'neg': 0.129, 'neu': 0.754, 'pos': 0.117, 'co...</td>\n",
       "    </tr>\n",
       "    <tr>\n",
       "      <th>1</th>\n",
       "      <td>calling out or correction</td>\n",
       "      <td>no, lime juice won't immunize you: some people...</td>\n",
       "      <td>{'neg': 0.178, 'neu': 0.719, 'pos': 0.103, 'co...</td>\n",
       "    </tr>\n",
       "    <tr>\n",
       "      <th>2</th>\n",
       "      <td>commercial activity or promotion</td>\n",
       "      <td>visit https://t.co/gqrtz87i0w for new jersey #...</td>\n",
       "      <td>{'neg': 0.068, 'neu': 0.799, 'pos': 0.133, 'co...</td>\n",
       "    </tr>\n",
       "    <tr>\n",
       "      <th>3</th>\n",
       "      <td>conspiracy</td>\n",
       "      <td>do you think the coronavirus is a natural occu...</td>\n",
       "      <td>{'neg': 0.14, 'neu': 0.766, 'pos': 0.094, 'com...</td>\n",
       "    </tr>\n",
       "    <tr>\n",
       "      <th>4</th>\n",
       "      <td>emergency</td>\n",
       "      <td>bfhp is in need of essential supplies due to c...</td>\n",
       "      <td>{'neg': 0.084, 'neu': 0.79, 'pos': 0.126, 'com...</td>\n",
       "    </tr>\n",
       "    <tr>\n",
       "      <th>5</th>\n",
       "      <td>fake cure</td>\n",
       "      <td>“anti-vaxxers have the cure to the coronavirus...</td>\n",
       "      <td>{'neg': 0.075, 'neu': 0.836, 'pos': 0.09, 'com...</td>\n",
       "    </tr>\n",
       "    <tr>\n",
       "      <th>6</th>\n",
       "      <td>fake treatment</td>\n",
       "      <td>i currently have the flu (haven't been tested ...</td>\n",
       "      <td>{'neg': 0.025, 'neu': 0.808, 'pos': 0.167, 'co...</td>\n",
       "    </tr>\n",
       "    <tr>\n",
       "      <th>7</th>\n",
       "      <td>false fact or prevention</td>\n",
       "      <td>if you went to dr. ricciardi in east orange as...</td>\n",
       "      <td>{'neg': 0.087, 'neu': 0.716, 'pos': 0.197, 'co...</td>\n",
       "    </tr>\n",
       "    <tr>\n",
       "      <th>8</th>\n",
       "      <td>false public health response</td>\n",
       "      <td>italy allows malaria and hiv drugs for coronav...</td>\n",
       "      <td>{'neg': 0.0, 'neu': 0.947, 'pos': 0.053, 'comp...</td>\n",
       "    </tr>\n",
       "    <tr>\n",
       "      <th>9</th>\n",
       "      <td>irrelevant</td>\n",
       "      <td>pags parody! plus, joe talks coronavirus and h...</td>\n",
       "      <td>{'neg': 0.108, 'neu': 0.781, 'pos': 0.112, 'co...</td>\n",
       "    </tr>\n",
       "    <tr>\n",
       "      <th>10</th>\n",
       "      <td>news</td>\n",
       "      <td>health authorities have identified a new coron...</td>\n",
       "      <td>{'neg': 0.118, 'neu': 0.813, 'pos': 0.069, 'co...</td>\n",
       "    </tr>\n",
       "    <tr>\n",
       "      <th>11</th>\n",
       "      <td>panic buying</td>\n",
       "      <td>as the demand for hand sanitisers soars in the...</td>\n",
       "      <td>{'neg': 0.114, 'neu': 0.821, 'pos': 0.065, 'co...</td>\n",
       "    </tr>\n",
       "    <tr>\n",
       "      <th>12</th>\n",
       "      <td>politics</td>\n",
       "      <td>i hope your father recovers from the virus as ...</td>\n",
       "      <td>{'neg': 0.156, 'neu': 0.731, 'pos': 0.112, 'co...</td>\n",
       "    </tr>\n",
       "    <tr>\n",
       "      <th>13</th>\n",
       "      <td>sarcasm or satire</td>\n",
       "      <td>i protected myself from the coronavirus by wea...</td>\n",
       "      <td>{'neg': 0.112, 'neu': 0.752, 'pos': 0.136, 'co...</td>\n",
       "    </tr>\n",
       "    <tr>\n",
       "      <th>14</th>\n",
       "      <td>true prevention</td>\n",
       "      <td>wash your hands as often as possible #cureforc...</td>\n",
       "      <td>{'neg': 0.06, 'neu': 0.758, 'pos': 0.182, 'com...</td>\n",
       "    </tr>\n",
       "    <tr>\n",
       "      <th>15</th>\n",
       "      <td>true public health response</td>\n",
       "      <td>delhi hc restrains publication of certain adve...</td>\n",
       "      <td>{'neg': 0.087, 'neu': 0.798, 'pos': 0.116, 'co...</td>\n",
       "    </tr>\n",
       "  </tbody>\n",
       "</table>\n",
       "</div>"
      ],
      "text/plain": [
       "                         Annontation  \\\n",
       "0      ambiguous or hard to classify   \n",
       "1          calling out or correction   \n",
       "2   commercial activity or promotion   \n",
       "3                         conspiracy   \n",
       "4                          emergency   \n",
       "5                          fake cure   \n",
       "6                     fake treatment   \n",
       "7           false fact or prevention   \n",
       "8       false public health response   \n",
       "9                         irrelevant   \n",
       "10                              news   \n",
       "11                      panic buying   \n",
       "12                          politics   \n",
       "13                 sarcasm or satire   \n",
       "14                   true prevention   \n",
       "15       true public health response   \n",
       "\n",
       "                                                 Text  \\\n",
       "0   are hand dryers effective in killing the new c...   \n",
       "1   no, lime juice won't immunize you: some people...   \n",
       "2   visit https://t.co/gqrtz87i0w for new jersey #...   \n",
       "3   do you think the coronavirus is a natural occu...   \n",
       "4   bfhp is in need of essential supplies due to c...   \n",
       "5   “anti-vaxxers have the cure to the coronavirus...   \n",
       "6   i currently have the flu (haven't been tested ...   \n",
       "7   if you went to dr. ricciardi in east orange as...   \n",
       "8   italy allows malaria and hiv drugs for coronav...   \n",
       "9   pags parody! plus, joe talks coronavirus and h...   \n",
       "10  health authorities have identified a new coron...   \n",
       "11  as the demand for hand sanitisers soars in the...   \n",
       "12  i hope your father recovers from the virus as ...   \n",
       "13  i protected myself from the coronavirus by wea...   \n",
       "14  wash your hands as often as possible #cureforc...   \n",
       "15  delhi hc restrains publication of certain adve...   \n",
       "\n",
       "                                               scores  \n",
       "0   {'neg': 0.129, 'neu': 0.754, 'pos': 0.117, 'co...  \n",
       "1   {'neg': 0.178, 'neu': 0.719, 'pos': 0.103, 'co...  \n",
       "2   {'neg': 0.068, 'neu': 0.799, 'pos': 0.133, 'co...  \n",
       "3   {'neg': 0.14, 'neu': 0.766, 'pos': 0.094, 'com...  \n",
       "4   {'neg': 0.084, 'neu': 0.79, 'pos': 0.126, 'com...  \n",
       "5   {'neg': 0.075, 'neu': 0.836, 'pos': 0.09, 'com...  \n",
       "6   {'neg': 0.025, 'neu': 0.808, 'pos': 0.167, 'co...  \n",
       "7   {'neg': 0.087, 'neu': 0.716, 'pos': 0.197, 'co...  \n",
       "8   {'neg': 0.0, 'neu': 0.947, 'pos': 0.053, 'comp...  \n",
       "9   {'neg': 0.108, 'neu': 0.781, 'pos': 0.112, 'co...  \n",
       "10  {'neg': 0.118, 'neu': 0.813, 'pos': 0.069, 'co...  \n",
       "11  {'neg': 0.114, 'neu': 0.821, 'pos': 0.065, 'co...  \n",
       "12  {'neg': 0.156, 'neu': 0.731, 'pos': 0.112, 'co...  \n",
       "13  {'neg': 0.112, 'neu': 0.752, 'pos': 0.136, 'co...  \n",
       "14  {'neg': 0.06, 'neu': 0.758, 'pos': 0.182, 'com...  \n",
       "15  {'neg': 0.087, 'neu': 0.798, 'pos': 0.116, 'co...  "
      ]
     },
     "execution_count": 262,
     "metadata": {},
     "output_type": "execute_result"
    }
   ],
   "source": [
    "dfg2['scores'] = dfg2['Text'].apply(lambda review: sid.polarity_scores(review))\n",
    "dfg2"
   ]
  },
  {
   "cell_type": "markdown",
   "id": "89475104",
   "metadata": {},
   "source": [
    "Can see from this table if a category is negative or positive. Positive are any scored >0, negative are any scored <0. \"comp_score\" column tells us if the category is positive or negative."
   ]
  },
  {
   "cell_type": "code",
   "execution_count": 263,
   "id": "77c4c5c6",
   "metadata": {},
   "outputs": [
    {
     "data": {
      "text/html": [
       "<div>\n",
       "<style scoped>\n",
       "    .dataframe tbody tr th:only-of-type {\n",
       "        vertical-align: middle;\n",
       "    }\n",
       "\n",
       "    .dataframe tbody tr th {\n",
       "        vertical-align: top;\n",
       "    }\n",
       "\n",
       "    .dataframe thead th {\n",
       "        text-align: right;\n",
       "    }\n",
       "</style>\n",
       "<table border=\"1\" class=\"dataframe\">\n",
       "  <thead>\n",
       "    <tr style=\"text-align: right;\">\n",
       "      <th></th>\n",
       "      <th>Annontation</th>\n",
       "      <th>Text</th>\n",
       "      <th>scores</th>\n",
       "      <th>compound</th>\n",
       "      <th>comp_score</th>\n",
       "    </tr>\n",
       "  </thead>\n",
       "  <tbody>\n",
       "    <tr>\n",
       "      <th>0</th>\n",
       "      <td>ambiguous or hard to classify</td>\n",
       "      <td>are hand dryers effective in killing the new c...</td>\n",
       "      <td>{'neg': 0.129, 'neu': 0.754, 'pos': 0.117, 'co...</td>\n",
       "      <td>-0.9973</td>\n",
       "      <td>neg</td>\n",
       "    </tr>\n",
       "    <tr>\n",
       "      <th>1</th>\n",
       "      <td>calling out or correction</td>\n",
       "      <td>no, lime juice won't immunize you: some people...</td>\n",
       "      <td>{'neg': 0.178, 'neu': 0.719, 'pos': 0.103, 'co...</td>\n",
       "      <td>-1.0000</td>\n",
       "      <td>neg</td>\n",
       "    </tr>\n",
       "    <tr>\n",
       "      <th>2</th>\n",
       "      <td>commercial activity or promotion</td>\n",
       "      <td>visit https://t.co/gqrtz87i0w for new jersey #...</td>\n",
       "      <td>{'neg': 0.068, 'neu': 0.799, 'pos': 0.133, 'co...</td>\n",
       "      <td>0.9941</td>\n",
       "      <td>pos</td>\n",
       "    </tr>\n",
       "    <tr>\n",
       "      <th>3</th>\n",
       "      <td>conspiracy</td>\n",
       "      <td>do you think the coronavirus is a natural occu...</td>\n",
       "      <td>{'neg': 0.14, 'neu': 0.766, 'pos': 0.094, 'com...</td>\n",
       "      <td>-1.0000</td>\n",
       "      <td>neg</td>\n",
       "    </tr>\n",
       "    <tr>\n",
       "      <th>4</th>\n",
       "      <td>emergency</td>\n",
       "      <td>bfhp is in need of essential supplies due to c...</td>\n",
       "      <td>{'neg': 0.084, 'neu': 0.79, 'pos': 0.126, 'com...</td>\n",
       "      <td>0.9764</td>\n",
       "      <td>pos</td>\n",
       "    </tr>\n",
       "    <tr>\n",
       "      <th>5</th>\n",
       "      <td>fake cure</td>\n",
       "      <td>“anti-vaxxers have the cure to the coronavirus...</td>\n",
       "      <td>{'neg': 0.075, 'neu': 0.836, 'pos': 0.09, 'com...</td>\n",
       "      <td>0.9915</td>\n",
       "      <td>pos</td>\n",
       "    </tr>\n",
       "    <tr>\n",
       "      <th>6</th>\n",
       "      <td>fake treatment</td>\n",
       "      <td>i currently have the flu (haven't been tested ...</td>\n",
       "      <td>{'neg': 0.025, 'neu': 0.808, 'pos': 0.167, 'co...</td>\n",
       "      <td>0.9981</td>\n",
       "      <td>pos</td>\n",
       "    </tr>\n",
       "    <tr>\n",
       "      <th>7</th>\n",
       "      <td>false fact or prevention</td>\n",
       "      <td>if you went to dr. ricciardi in east orange as...</td>\n",
       "      <td>{'neg': 0.087, 'neu': 0.716, 'pos': 0.197, 'co...</td>\n",
       "      <td>1.0000</td>\n",
       "      <td>pos</td>\n",
       "    </tr>\n",
       "    <tr>\n",
       "      <th>8</th>\n",
       "      <td>false public health response</td>\n",
       "      <td>italy allows malaria and hiv drugs for coronav...</td>\n",
       "      <td>{'neg': 0.0, 'neu': 0.947, 'pos': 0.053, 'comp...</td>\n",
       "      <td>0.4404</td>\n",
       "      <td>pos</td>\n",
       "    </tr>\n",
       "    <tr>\n",
       "      <th>9</th>\n",
       "      <td>irrelevant</td>\n",
       "      <td>pags parody! plus, joe talks coronavirus and h...</td>\n",
       "      <td>{'neg': 0.108, 'neu': 0.781, 'pos': 0.112, 'co...</td>\n",
       "      <td>-0.7671</td>\n",
       "      <td>neg</td>\n",
       "    </tr>\n",
       "    <tr>\n",
       "      <th>10</th>\n",
       "      <td>news</td>\n",
       "      <td>health authorities have identified a new coron...</td>\n",
       "      <td>{'neg': 0.118, 'neu': 0.813, 'pos': 0.069, 'co...</td>\n",
       "      <td>-0.9989</td>\n",
       "      <td>neg</td>\n",
       "    </tr>\n",
       "    <tr>\n",
       "      <th>11</th>\n",
       "      <td>panic buying</td>\n",
       "      <td>as the demand for hand sanitisers soars in the...</td>\n",
       "      <td>{'neg': 0.114, 'neu': 0.821, 'pos': 0.065, 'co...</td>\n",
       "      <td>-0.9970</td>\n",
       "      <td>neg</td>\n",
       "    </tr>\n",
       "    <tr>\n",
       "      <th>12</th>\n",
       "      <td>politics</td>\n",
       "      <td>i hope your father recovers from the virus as ...</td>\n",
       "      <td>{'neg': 0.156, 'neu': 0.731, 'pos': 0.112, 'co...</td>\n",
       "      <td>-1.0000</td>\n",
       "      <td>neg</td>\n",
       "    </tr>\n",
       "    <tr>\n",
       "      <th>13</th>\n",
       "      <td>sarcasm or satire</td>\n",
       "      <td>i protected myself from the coronavirus by wea...</td>\n",
       "      <td>{'neg': 0.112, 'neu': 0.752, 'pos': 0.136, 'co...</td>\n",
       "      <td>0.9998</td>\n",
       "      <td>pos</td>\n",
       "    </tr>\n",
       "    <tr>\n",
       "      <th>14</th>\n",
       "      <td>true prevention</td>\n",
       "      <td>wash your hands as often as possible #cureforc...</td>\n",
       "      <td>{'neg': 0.06, 'neu': 0.758, 'pos': 0.182, 'com...</td>\n",
       "      <td>1.0000</td>\n",
       "      <td>pos</td>\n",
       "    </tr>\n",
       "    <tr>\n",
       "      <th>15</th>\n",
       "      <td>true public health response</td>\n",
       "      <td>delhi hc restrains publication of certain adve...</td>\n",
       "      <td>{'neg': 0.087, 'neu': 0.798, 'pos': 0.116, 'co...</td>\n",
       "      <td>0.9992</td>\n",
       "      <td>pos</td>\n",
       "    </tr>\n",
       "  </tbody>\n",
       "</table>\n",
       "</div>"
      ],
      "text/plain": [
       "                         Annontation  \\\n",
       "0      ambiguous or hard to classify   \n",
       "1          calling out or correction   \n",
       "2   commercial activity or promotion   \n",
       "3                         conspiracy   \n",
       "4                          emergency   \n",
       "5                          fake cure   \n",
       "6                     fake treatment   \n",
       "7           false fact or prevention   \n",
       "8       false public health response   \n",
       "9                         irrelevant   \n",
       "10                              news   \n",
       "11                      panic buying   \n",
       "12                          politics   \n",
       "13                 sarcasm or satire   \n",
       "14                   true prevention   \n",
       "15       true public health response   \n",
       "\n",
       "                                                 Text  \\\n",
       "0   are hand dryers effective in killing the new c...   \n",
       "1   no, lime juice won't immunize you: some people...   \n",
       "2   visit https://t.co/gqrtz87i0w for new jersey #...   \n",
       "3   do you think the coronavirus is a natural occu...   \n",
       "4   bfhp is in need of essential supplies due to c...   \n",
       "5   “anti-vaxxers have the cure to the coronavirus...   \n",
       "6   i currently have the flu (haven't been tested ...   \n",
       "7   if you went to dr. ricciardi in east orange as...   \n",
       "8   italy allows malaria and hiv drugs for coronav...   \n",
       "9   pags parody! plus, joe talks coronavirus and h...   \n",
       "10  health authorities have identified a new coron...   \n",
       "11  as the demand for hand sanitisers soars in the...   \n",
       "12  i hope your father recovers from the virus as ...   \n",
       "13  i protected myself from the coronavirus by wea...   \n",
       "14  wash your hands as often as possible #cureforc...   \n",
       "15  delhi hc restrains publication of certain adve...   \n",
       "\n",
       "                                               scores  compound comp_score  \n",
       "0   {'neg': 0.129, 'neu': 0.754, 'pos': 0.117, 'co...   -0.9973        neg  \n",
       "1   {'neg': 0.178, 'neu': 0.719, 'pos': 0.103, 'co...   -1.0000        neg  \n",
       "2   {'neg': 0.068, 'neu': 0.799, 'pos': 0.133, 'co...    0.9941        pos  \n",
       "3   {'neg': 0.14, 'neu': 0.766, 'pos': 0.094, 'com...   -1.0000        neg  \n",
       "4   {'neg': 0.084, 'neu': 0.79, 'pos': 0.126, 'com...    0.9764        pos  \n",
       "5   {'neg': 0.075, 'neu': 0.836, 'pos': 0.09, 'com...    0.9915        pos  \n",
       "6   {'neg': 0.025, 'neu': 0.808, 'pos': 0.167, 'co...    0.9981        pos  \n",
       "7   {'neg': 0.087, 'neu': 0.716, 'pos': 0.197, 'co...    1.0000        pos  \n",
       "8   {'neg': 0.0, 'neu': 0.947, 'pos': 0.053, 'comp...    0.4404        pos  \n",
       "9   {'neg': 0.108, 'neu': 0.781, 'pos': 0.112, 'co...   -0.7671        neg  \n",
       "10  {'neg': 0.118, 'neu': 0.813, 'pos': 0.069, 'co...   -0.9989        neg  \n",
       "11  {'neg': 0.114, 'neu': 0.821, 'pos': 0.065, 'co...   -0.9970        neg  \n",
       "12  {'neg': 0.156, 'neu': 0.731, 'pos': 0.112, 'co...   -1.0000        neg  \n",
       "13  {'neg': 0.112, 'neu': 0.752, 'pos': 0.136, 'co...    0.9998        pos  \n",
       "14  {'neg': 0.06, 'neu': 0.758, 'pos': 0.182, 'com...    1.0000        pos  \n",
       "15  {'neg': 0.087, 'neu': 0.798, 'pos': 0.116, 'co...    0.9992        pos  "
      ]
     },
     "execution_count": 263,
     "metadata": {},
     "output_type": "execute_result"
    }
   ],
   "source": [
    "dfg2['compound']  = dfg2['scores'].apply(lambda score_dict: score_dict['compound'])\n",
    "dfg2['comp_score'] = dfg2['compound'].apply(lambda c: 'pos' if c >=0 else 'neg')\n",
    "dfg2\n"
   ]
  },
  {
   "cell_type": "markdown",
   "id": "58fe5940",
   "metadata": {},
   "source": [
    "We plot this on a bar chart"
   ]
  },
  {
   "cell_type": "code",
   "execution_count": 264,
   "id": "ecdd3dd2",
   "metadata": {},
   "outputs": [
    {
     "data": {
      "text/plain": [
       "<AxesSubplot:xlabel='Annontation'>"
      ]
     },
     "execution_count": 264,
     "metadata": {},
     "output_type": "execute_result"
    },
    {
     "data": {
      "image/png": "[encoded data removed]",
      "text/plain": [
       "<Figure size 1080x360 with 1 Axes>"
      ]
     },
     "metadata": {
      "needs_background": "light"
     },
     "output_type": "display_data"
    }
   ],
   "source": [
    "# Custom x axis\n",
    "dfg2.plot.bar(figsize=(15,5),width=1, x='Annontation')"
   ]
  },
  {
   "cell_type": "code",
   "execution_count": null,
   "id": "eefe3579",
   "metadata": {},
   "outputs": [],
   "source": []
  },
  {
   "cell_type": "markdown",
   "id": "3eb3ea54",
   "metadata": {},
   "source": [
    "### Task D. Text Classification"
   ]
  },
  {
   "cell_type": "markdown",
   "id": "a06aa45e",
   "metadata": {},
   "source": [
    "We want to create a binary classifier of \"misinformation\" and \"no misinformation\". First we combined tweets. We exclude \"sarcasm\" and \"irrelevant\" from this analysis. Sarcasm could confuse the classifier as the classifier probably won't be able to pick up on a sarcastic tone. Irrelevant is excluded because it's not relevant."
   ]
  },
  {
   "cell_type": "code",
   "execution_count": 265,
   "id": "0f8631ba",
   "metadata": {},
   "outputs": [],
   "source": [
    "## merge tweets \n",
    "df\n",
    "\n",
    "misinfo = [\"conspiracy\", \"fake cure\", \"fake treatment\", \"false fact or prevention\"]\n",
    "no_misinfo = [\"true treatment\", \"true prevention\", \"true public health response\", \"calling out or correction\", \"emergency\", \"news\", \n",
    "             \"irrelevant\", \"commercial activity or promotion\", \"panic buying\", \"politics\"]\n"
   ]
  },
  {
   "cell_type": "markdown",
   "id": "520131ba",
   "metadata": {},
   "source": [
    "Assign each tweet a misinfo or no misinfo label"
   ]
  },
  {
   "cell_type": "code",
   "execution_count": 266,
   "id": "7efbeac2",
   "metadata": {},
   "outputs": [],
   "source": [
    "# create a list of our conditions\n",
    "conditions = [\n",
    "    (df[\"annontation\"].isin(misinfo)),\n",
    "    (df[\"annontation\"].isin(no_misinfo)),\n",
    "    (~df[\"annontation\"].isin(misinfo)) & (~df[\"annontation\"].isin(no_misinfo))\n",
    "    ]\n",
    "\n",
    "# create a list of the values we want to assign for each condition\n",
    "values = ['misinfo', 'no_misinfo', 'n/a']\n",
    "\n",
    "# create a new column and use np.select to assign values to it using our lists as arguments\n",
    "df['class1'] = np.select(conditions, values)"
   ]
  },
  {
   "cell_type": "code",
   "execution_count": 267,
   "id": "c6fd2758",
   "metadata": {},
   "outputs": [
    {
     "name": "stdout",
     "output_type": "stream",
     "text": [
      "  annontation      class1\n",
      "0  irrelevant  no_misinfo\n",
      "1  irrelevant  no_misinfo\n",
      "2  irrelevant  no_misinfo\n",
      "3  irrelevant  no_misinfo\n",
      "4    politics  no_misinfo\n"
     ]
    }
   ],
   "source": [
    "with pd.option_context('display.max_rows', None, 'display.max_columns', None):\n",
    "    print(df[['annontation', 'class1']].head())"
   ]
  },
  {
   "cell_type": "markdown",
   "id": "47834c76",
   "metadata": {},
   "source": [
    "Drop the tweets we don't deem relevant to the analysis. "
   ]
  },
  {
   "cell_type": "code",
   "execution_count": 268,
   "id": "3d589dc3",
   "metadata": {},
   "outputs": [],
   "source": [
    "#drop n/a\n",
    "dfd1 = df[df.class1 != 'n/a']"
   ]
  },
  {
   "cell_type": "markdown",
   "id": "9e177fea",
   "metadata": {},
   "source": [
    "The column 'text9' is after our pre-processing steps. We change it to a list to a string so it can be used in the classifier."
   ]
  },
  {
   "cell_type": "code",
   "execution_count": 269,
   "id": "975db9cf",
   "metadata": {},
   "outputs": [
    {
     "name": "stderr",
     "output_type": "stream",
     "text": [
      "<ipython-input-269-59c8dd610ef5>:3: SettingWithCopyWarning: \n",
      "A value is trying to be set on a copy of a slice from a DataFrame.\n",
      "Try using .loc[row_indexer,col_indexer] = value instead\n",
      "\n",
      "See the caveats in the documentation: https://pandas.pydata.org/pandas-docs/stable/user_guide/indexing.html#returning-a-view-versus-a-copy\n",
      "  dfd1['text10'] = [' ' .join(x) for x in dfd1['text9']]\n"
     ]
    }
   ],
   "source": [
    "#hello = ' '.join(dfd1['text9'])\n",
    "#dfd1['text9']\n",
    "dfd1['text10'] = [' ' .join(x) for x in dfd1['text9']]"
   ]
  },
  {
   "cell_type": "markdown",
   "id": "0df5e17a",
   "metadata": {},
   "source": [
    "Split the data into train and test. Train data is used to create the model. We then use the test data to see if the model is accurate on data we didn't use in the model to see if it can make predictions on new data."
   ]
  },
  {
   "cell_type": "code",
   "execution_count": 270,
   "id": "843d1534",
   "metadata": {},
   "outputs": [
    {
     "name": "stdout",
     "output_type": "stream",
     "text": [
      "Size of Training Data  2503\n",
      "Size of Test Data  626\n"
     ]
    }
   ],
   "source": [
    "#use text6\n",
    "X_train, X_test, Y_train, Y_test = train_test_split(dfd1['text10'],\n",
    "                                                    dfd1['class1'],\n",
    "                                                    test_size=0.2,\n",
    "                                                    random_state=42,\n",
    "                                                    stratify=dfd1['class1']\n",
    "                                                   )\n",
    "\n",
    "print('Size of Training Data ', X_train.shape[0])\n",
    "print('Size of Test Data ', X_test.shape[0])"
   ]
  },
  {
   "cell_type": "markdown",
   "id": "e705b692",
   "metadata": {},
   "source": [
    "Transform the test data into a matrix of numbers, where each word gets a number of how frequently it appears in each class of info and misinfo. The grid search below, which tells us the best parameters to use for this model, tells us that an ngram range of 1,3 is the best. That means we include phrases of 1, 2 and 3 words long in the analysis. For example for a 3 gram phrase, \"coronavirus is bad\" would be included. For a 2 gram phrase \"go away\" would be included."
   ]
  },
  {
   "cell_type": "code",
   "execution_count": 271,
   "id": "e71be552",
   "metadata": {},
   "outputs": [],
   "source": [
    "from sklearn.feature_extraction.text import TfidfVectorizer\n",
    "tfidf = TfidfVectorizer(min_df = 10, ngram_range=(1,3), stop_words=\"english\")\n",
    "X_train_tf = tfidf.fit_transform(X_train)"
   ]
  },
  {
   "cell_type": "markdown",
   "id": "aafe3545",
   "metadata": {},
   "source": [
    "We use a Support Vector Machine to classify as this is better with text data as it's sparse data (the matrix has a lot of 0s in, hence it is sparse)."
   ]
  },
  {
   "cell_type": "code",
   "execution_count": 272,
   "id": "27f4a822",
   "metadata": {},
   "outputs": [
    {
     "data": {
      "text/plain": [
       "LinearSVC(random_state=0, tol=1e-05)"
      ]
     },
     "execution_count": 272,
     "metadata": {},
     "output_type": "execute_result"
    }
   ],
   "source": [
    "#from sklearn.svm.LinearSVC import LinearSVC\n",
    "from sklearn.svm import LinearSVC\n",
    "from sklearn.pipeline import make_pipeline\n",
    "from sklearn.preprocessing import StandardScaler\n",
    "from sklearn.datasets import make_classification\n",
    "model1 = LinearSVC(random_state=0, tol=1e-5)\n",
    "model1.fit(X_train_tf, Y_train)"
   ]
  },
  {
   "cell_type": "code",
   "execution_count": 273,
   "id": "63445091",
   "metadata": {},
   "outputs": [
    {
     "data": {
      "text/plain": [
       "LinearSVC(max_iter=10000, random_state=0, tol=1e-05)"
      ]
     },
     "execution_count": 273,
     "metadata": {},
     "output_type": "execute_result"
    }
   ],
   "source": [
    "LinearSVC(C=1.0, class_weight=None, dual=True, fit_intercept=True,\n",
    "          intercept_scaling=1, loss='squared_hinge', max_iter=10000,\n",
    "          multi_class='ovr', penalty='l2', random_state=0, tol=1e-05,\n",
    "          verbose=0)"
   ]
  },
  {
   "cell_type": "markdown",
   "id": "db7399d6",
   "metadata": {},
   "source": [
    "We test the model on our test data to see how accurate it is. For each tweet we let the model predict if it's information or misinformation and we compare it to the actual label. What percentage of the time is it correct, the accuracy score tells us that, 82.4%"
   ]
  },
  {
   "cell_type": "code",
   "execution_count": 274,
   "id": "8fee36c8",
   "metadata": {},
   "outputs": [
    {
     "name": "stdout",
     "output_type": "stream",
     "text": [
      "Accuracy Score -  0.8242811501597445\n"
     ]
    }
   ],
   "source": [
    "X_test_tf = tfidf.transform(X_test)\n",
    "\n",
    "Y_pred = model1.predict(X_test_tf)\n",
    "print ('Accuracy Score - ', accuracy_score(Y_test, Y_pred))"
   ]
  },
  {
   "cell_type": "markdown",
   "id": "f4bba08c",
   "metadata": {},
   "source": [
    "This is a confusion matrix which tells us how well the model performs.\n",
    "\n",
    "For the test data, and for the misinformation tweets, the model gets it right 104 times, but gets it wrong 71 times. That's not so good.\n",
    "\n",
    "For the no_information, it gets it wrong 39 times but gets it right 412 times. That's good. So it's good at detecting tweets with no_misinformation but not as good det picking up tweets with misinformation."
   ]
  },
  {
   "cell_type": "code",
   "execution_count": 275,
   "id": "008a499f",
   "metadata": {},
   "outputs": [
    {
     "data": {
      "image/png": "[encoded data removed]",
      "text/plain": [
       "<Figure size 1152x432 with 2 Axes>"
      ]
     },
     "metadata": {
      "needs_background": "light"
     },
     "output_type": "display_data"
    }
   ],
   "source": [
    "from sklearn.metrics import plot_confusion_matrix\n",
    "plot_confusion_matrix(model1,X_test_tf,\n",
    "                      Y_test, values_format='d',\n",
    "                      cmap=plt.cm.Blues)\n",
    "plt.show()"
   ]
  },
  {
   "cell_type": "markdown",
   "id": "b778663a",
   "metadata": {},
   "source": [
    "Here are some examples where the model gets it right"
   ]
  },
  {
   "cell_type": "code",
   "execution_count": 276,
   "id": "dec2bb39",
   "metadata": {},
   "outputs": [
    {
     "data": {
      "text/html": [
       "<div>\n",
       "<style scoped>\n",
       "    .dataframe tbody tr th:only-of-type {\n",
       "        vertical-align: middle;\n",
       "    }\n",
       "\n",
       "    .dataframe tbody tr th {\n",
       "        vertical-align: top;\n",
       "    }\n",
       "\n",
       "    .dataframe thead th {\n",
       "        text-align: right;\n",
       "    }\n",
       "</style>\n",
       "<table border=\"1\" class=\"dataframe\">\n",
       "  <thead>\n",
       "    <tr style=\"text-align: right;\">\n",
       "      <th></th>\n",
       "      <th>text</th>\n",
       "      <th>actual</th>\n",
       "      <th>predicted</th>\n",
       "    </tr>\n",
       "  </thead>\n",
       "  <tbody>\n",
       "    <tr>\n",
       "      <th>1267</th>\n",
       "      <td>wash hand properly 20 sec prior wash fruit luk...</td>\n",
       "      <td>no_misinfo</td>\n",
       "      <td>no_misinfo</td>\n",
       "    </tr>\n",
       "    <tr>\n",
       "      <th>2435</th>\n",
       "      <td>aunt friend tell coronavirus fake create democ...</td>\n",
       "      <td>no_misinfo</td>\n",
       "      <td>no_misinfo</td>\n",
       "    </tr>\n",
       "    <tr>\n",
       "      <th>741</th>\n",
       "      <td>@user talk malaria drug miracle cure covid19</td>\n",
       "      <td>no_misinfo</td>\n",
       "      <td>no_misinfo</td>\n",
       "    </tr>\n",
       "    <tr>\n",
       "      <th>200</th>\n",
       "      <td>@user flu shot increase risk respiratory virus...</td>\n",
       "      <td>misinfo</td>\n",
       "      <td>misinfo</td>\n",
       "    </tr>\n",
       "  </tbody>\n",
       "</table>\n",
       "</div>"
      ],
      "text/plain": [
       "                                                   text      actual  \\\n",
       "1267  wash hand properly 20 sec prior wash fruit luk...  no_misinfo   \n",
       "2435  aunt friend tell coronavirus fake create democ...  no_misinfo   \n",
       "741        @user talk malaria drug miracle cure covid19  no_misinfo   \n",
       "200   @user flu shot increase risk respiratory virus...     misinfo   \n",
       "\n",
       "       predicted  \n",
       "1267  no_misinfo  \n",
       "2435  no_misinfo  \n",
       "741   no_misinfo  \n",
       "200      misinfo  "
      ]
     },
     "execution_count": 276,
     "metadata": {},
     "output_type": "execute_result"
    }
   ],
   "source": [
    "# Create a DataFrame combining the Title and Description,\n",
    "# Actual and Predicted values that we can explore\n",
    "frame = { 'text': X_test, 'actual': Y_test, 'predicted': Y_pred }\n",
    "result = pd.DataFrame(frame)\n",
    "\n",
    "\n",
    "result[((result['actual'] == 'no_misinfo') | (result['actual'] == 'misinfo')) &(result['actual'] == result['predicted'])].sample(4)"
   ]
  },
  {
   "cell_type": "markdown",
   "id": "7ea89217",
   "metadata": {},
   "source": [
    "Here are some examples where the model gets it wrong."
   ]
  },
  {
   "cell_type": "code",
   "execution_count": 277,
   "id": "b5128576",
   "metadata": {},
   "outputs": [
    {
     "data": {
      "text/html": [
       "<div>\n",
       "<style scoped>\n",
       "    .dataframe tbody tr th:only-of-type {\n",
       "        vertical-align: middle;\n",
       "    }\n",
       "\n",
       "    .dataframe tbody tr th {\n",
       "        vertical-align: top;\n",
       "    }\n",
       "\n",
       "    .dataframe thead th {\n",
       "        text-align: right;\n",
       "    }\n",
       "</style>\n",
       "<table border=\"1\" class=\"dataframe\">\n",
       "  <thead>\n",
       "    <tr style=\"text-align: right;\">\n",
       "      <th></th>\n",
       "      <th>text</th>\n",
       "      <th>actual</th>\n",
       "      <th>predicted</th>\n",
       "    </tr>\n",
       "  </thead>\n",
       "  <tbody>\n",
       "    <tr>\n",
       "      <th>3069</th>\n",
       "      <td>church phony covid-19 cure sell north texas gr...</td>\n",
       "      <td>misinfo</td>\n",
       "      <td>no_misinfo</td>\n",
       "    </tr>\n",
       "    <tr>\n",
       "      <th>3589</th>\n",
       "      <td>cure covid-19 popolo plant try manomano ka ike...</td>\n",
       "      <td>misinfo</td>\n",
       "      <td>no_misinfo</td>\n",
       "    </tr>\n",
       "    <tr>\n",
       "      <th>556</th>\n",
       "      <td>@user @user simple trick kill coronavirus hair...</td>\n",
       "      <td>misinfo</td>\n",
       "      <td>no_misinfo</td>\n",
       "    </tr>\n",
       "    <tr>\n",
       "      <th>3588</th>\n",
       "      <td>expect cure covid god know come lockdown weapo...</td>\n",
       "      <td>misinfo</td>\n",
       "      <td>no_misinfo</td>\n",
       "    </tr>\n",
       "  </tbody>\n",
       "</table>\n",
       "</div>"
      ],
      "text/plain": [
       "                                                   text   actual   predicted\n",
       "3069  church phony covid-19 cure sell north texas gr...  misinfo  no_misinfo\n",
       "3589  cure covid-19 popolo plant try manomano ka ike...  misinfo  no_misinfo\n",
       "556   @user @user simple trick kill coronavirus hair...  misinfo  no_misinfo\n",
       "3588  expect cure covid god know come lockdown weapo...  misinfo  no_misinfo"
      ]
     },
     "execution_count": 277,
     "metadata": {},
     "output_type": "execute_result"
    }
   ],
   "source": [
    "result[((result['actual'] == 'misinfo')) &(result['actual'] != result['predicted'])].sample(4)\n"
   ]
  },
  {
   "cell_type": "code",
   "execution_count": 278,
   "id": "a65e767e",
   "metadata": {},
   "outputs": [
    {
     "data": {
      "text/plain": [
       "\"chinese wet market a farmer's market on steroids, spread all sorts of viruses, world now condemns!  chlorinated chicken safer than the fresh chicken that caused coronavirus says dominic lawson https://t.co/lkzgf0bmbj…  #borisjohnson  @user #backboris #johnson #boris https://t.co/mkazelksvc\""
      ]
     },
     "execution_count": 278,
     "metadata": {},
     "output_type": "execute_result"
    }
   ],
   "source": [
    "dfd1['text'][85]"
   ]
  },
  {
   "cell_type": "markdown",
   "id": "e45dcccc",
   "metadata": {},
   "source": [
    "This is a grid search which tells us the best parameters to use."
   ]
  },
  {
   "cell_type": "code",
   "execution_count": 279,
   "id": "6687f94d",
   "metadata": {},
   "outputs": [
    {
     "name": "stdout",
     "output_type": "stream",
     "text": [
      "Best alpha parameter identified by grid search  {'model__loss': 'hinge', 'model__max_iter': 10000, 'model__penalty': 'l2', 'tfidf__min_df': 10, 'tfidf__ngram_range': (1, 3)}\n",
      "Best result identified by grid search  0.8117648562300319\n"
     ]
    }
   ],
   "source": [
    "from sklearn.pipeline import Pipeline\n",
    "from sklearn.model_selection import GridSearchCV\n",
    "training_pipeline = Pipeline(\n",
    "    steps=[('tfidf', TfidfVectorizer(stop_words=\"english\")),\n",
    "            ('model', LinearSVC(random_state=42, tol=1e-5))])\n",
    "\n",
    "grid_param = [{\n",
    "    'tfidf__min_df': [5, 10],\n",
    "    'tfidf__ngram_range': [(1, 3), (1, 6)],\n",
    "    'model__penalty': ['l2'],\n",
    "    'model__loss': ['hinge'],\n",
    "    'model__max_iter': [10000]\n",
    "}, {\n",
    "    'tfidf__min_df': [5, 10],\n",
    "    'tfidf__ngram_range': [(1, 3), (1, 6)],\n",
    "    'model__C': [1, 10],\n",
    "    'model__tol': [1e-2, 1e-3]\n",
    "}]\n",
    "\n",
    "gridSearchProcessor = GridSearchCV(estimator=training_pipeline,\n",
    "                                   param_grid=grid_param,\n",
    "                                   cv=5)\n",
    "gridSearchProcessor.fit(dfd1['text10'], dfd1['class1'])\n",
    "\n",
    "best_params = gridSearchProcessor.best_params_\n",
    "print(\"Best alpha parameter identified by grid search \", best_params)\n",
    "\n",
    "best_result = gridSearchProcessor.best_score_\n",
    "print(\"Best result identified by grid search \", best_result)"
   ]
  }
 ],
 "metadata": {
  "kernelspec": {
   "display_name": "Python (ML)",
   "language": "python",
   "name": "ml"
  },
  "language_info": {
   "codemirror_mode": {
    "name": "ipython",
    "version": 3
   },
   "file_extension": ".py",
   "mimetype": "text/x-python",
   "name": "python",
   "nbconvert_exporter": "python",
   "pygments_lexer": "ipython3",
   "version": "3.8.8"
  }
 },
 "nbformat": 4,
 "nbformat_minor": 5
}
